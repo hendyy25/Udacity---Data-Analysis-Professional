{
 "cells": [
  {
   "cell_type": "code",
   "execution_count": 1,
   "id": "abfd8297",
   "metadata": {
    "ExecuteTime": {
     "end_time": "2022-05-07T17:23:54.689563Z",
     "start_time": "2022-05-07T17:23:54.686350Z"
    }
   },
   "outputs": [],
   "source": [
    "import numpy as np"
   ]
  },
  {
   "cell_type": "code",
   "execution_count": 2,
   "id": "b98ed577",
   "metadata": {
    "ExecuteTime": {
     "end_time": "2022-05-07T17:24:16.616290Z",
     "start_time": "2022-05-07T17:24:16.597998Z"
    }
   },
   "outputs": [
    {
     "data": {
      "text/plain": [
       "array([1, 2, 3])"
      ]
     },
     "execution_count": 2,
     "metadata": {},
     "output_type": "execute_result"
    }
   ],
   "source": [
    "x = np.array([1,2,3])\n",
    "x"
   ]
  },
  {
   "cell_type": "code",
   "execution_count": 3,
   "id": "c6ceb6c1",
   "metadata": {
    "ExecuteTime": {
     "end_time": "2022-05-07T17:24:21.253058Z",
     "start_time": "2022-05-07T17:24:21.249070Z"
    }
   },
   "outputs": [
    {
     "name": "stdout",
     "output_type": "stream",
     "text": [
      "[1 2 3]\n"
     ]
    }
   ],
   "source": [
    "print(x)"
   ]
  },
  {
   "cell_type": "code",
   "execution_count": 4,
   "id": "b3239693",
   "metadata": {
    "ExecuteTime": {
     "end_time": "2022-05-07T17:25:38.676774Z",
     "start_time": "2022-05-07T17:25:38.671388Z"
    }
   },
   "outputs": [
    {
     "data": {
      "text/plain": [
       "1"
      ]
     },
     "execution_count": 4,
     "metadata": {},
     "output_type": "execute_result"
    }
   ],
   "source": [
    "x.ndim"
   ]
  },
  {
   "cell_type": "code",
   "execution_count": 5,
   "id": "863b0c60",
   "metadata": {
    "ExecuteTime": {
     "end_time": "2022-05-07T17:26:25.354620Z",
     "start_time": "2022-05-07T17:26:25.348730Z"
    }
   },
   "outputs": [
    {
     "data": {
      "text/plain": [
       "2"
      ]
     },
     "execution_count": 5,
     "metadata": {},
     "output_type": "execute_result"
    }
   ],
   "source": [
    "y = np.array([[1,2,3],[4,5,6],[6,7,8]])\n",
    "y.ndim"
   ]
  },
  {
   "cell_type": "code",
   "execution_count": 7,
   "id": "04ac4676",
   "metadata": {
    "ExecuteTime": {
     "end_time": "2022-05-07T17:26:52.691782Z",
     "start_time": "2022-05-07T17:26:52.686285Z"
    }
   },
   "outputs": [
    {
     "data": {
      "text/plain": [
       "3"
      ]
     },
     "execution_count": 7,
     "metadata": {},
     "output_type": "execute_result"
    }
   ],
   "source": [
    "z = np.zeros((2,3,4))\n",
    "z.ndim"
   ]
  },
  {
   "cell_type": "code",
   "execution_count": 9,
   "id": "29f57d48",
   "metadata": {
    "ExecuteTime": {
     "end_time": "2022-05-07T17:29:44.666446Z",
     "start_time": "2022-05-07T17:29:44.660886Z"
    }
   },
   "outputs": [
    {
     "name": "stdout",
     "output_type": "stream",
     "text": [
      "[1 2 3 4 5]\n",
      "dimensions (5,)\n",
      "x is an object of datatype <class 'numpy.ndarray'>\n",
      "the elements of x are of datatype int64\n"
     ]
    }
   ],
   "source": [
    "x = np.array([1,2,3,4,5])\n",
    "print(x)\n",
    "print('dimensions', x.shape)\n",
    "print('x is an object of datatype', type(x))\n",
    "print('the elements of x are of datatype',x.dtype) # all elements of the array must be the same"
   ]
  },
  {
   "cell_type": "code",
   "execution_count": 10,
   "id": "fbfed039",
   "metadata": {
    "ExecuteTime": {
     "end_time": "2022-05-07T17:31:20.109818Z",
     "start_time": "2022-05-07T17:31:20.103746Z"
    }
   },
   "outputs": [
    {
     "name": "stdout",
     "output_type": "stream",
     "text": [
      "['Hello' 'World']\n",
      "dimensions (2,)\n",
      "x is an object of datatype <class 'numpy.ndarray'>\n",
      "the elements of x are of datatype <U5\n"
     ]
    }
   ],
   "source": [
    "x = np.array(['Hello','World'])\n",
    "\n",
    "print(x)\n",
    "print('dimensions', x.shape)\n",
    "print('x is an object of datatype', type(x))\n",
    "print('the elements of x are of datatype',x.dtype)"
   ]
  },
  {
   "cell_type": "code",
   "execution_count": 11,
   "id": "3b718642",
   "metadata": {
    "ExecuteTime": {
     "end_time": "2022-05-07T17:32:32.447540Z",
     "start_time": "2022-05-07T17:32:32.441468Z"
    }
   },
   "outputs": [
    {
     "name": "stdout",
     "output_type": "stream",
     "text": [
      "['1' '2' 'World']\n",
      "dimensions (3,)\n",
      "x is an object of datatype <class 'numpy.ndarray'>\n",
      "the elements of x are of datatype <U21\n"
     ]
    }
   ],
   "source": [
    "x = np.array([1,2,'World'])\n",
    "\n",
    "print(x)\n",
    "print('dimensions', x.shape)\n",
    "print('x is an object of datatype', type(x))\n",
    "print('the elements of x are of datatype',x.dtype) # all elements are strings"
   ]
  },
  {
   "cell_type": "code",
   "execution_count": 12,
   "id": "9caee0b7",
   "metadata": {
    "ExecuteTime": {
     "end_time": "2022-05-07T17:35:03.989570Z",
     "start_time": "2022-05-07T17:35:03.983171Z"
    }
   },
   "outputs": [
    {
     "name": "stdout",
     "output_type": "stream",
     "text": [
      "int64\n",
      "float64\n",
      "float64\n"
     ]
    }
   ],
   "source": [
    "x = np.array([1,2,3])\n",
    "y = np.array([1.0,2.0,3.0])\n",
    "z = np.array([1,2.0,3]) # all are float, upcasting\n",
    "\n",
    "print(x.dtype)\n",
    "print(y.dtype)\n",
    "print(z.dtype)"
   ]
  },
  {
   "cell_type": "code",
   "execution_count": 13,
   "id": "7eeb8a7a",
   "metadata": {
    "ExecuteTime": {
     "end_time": "2022-05-07T17:37:19.622624Z",
     "start_time": "2022-05-07T17:37:19.618057Z"
    }
   },
   "outputs": [
    {
     "name": "stdout",
     "output_type": "stream",
     "text": [
      "[1 2 3 4 5]\n",
      "int64\n"
     ]
    }
   ],
   "source": [
    "x = np.array([1.5,2.2,3.7,4.0,5.9],dtype=np.int64) # assigning a data type\n",
    "print(x)\n",
    "print(x.dtype)"
   ]
  },
  {
   "cell_type": "code",
   "execution_count": 14,
   "id": "85dc349a",
   "metadata": {
    "ExecuteTime": {
     "end_time": "2022-05-07T17:39:23.704318Z",
     "start_time": "2022-05-07T17:39:23.697874Z"
    }
   },
   "outputs": [
    {
     "name": "stdout",
     "output_type": "stream",
     "text": [
      "[[ 1  2  3]\n",
      " [ 4  5  6]\n",
      " [ 7  8  9]\n",
      " [10 11 12]]\n",
      "(4, 3)\n",
      "12\n",
      "<class 'numpy.ndarray'>\n",
      "int64\n"
     ]
    }
   ],
   "source": [
    "y = np.array([[1,2,3],[4,5,6],[7,8,9], [10,11,12]])\n",
    "\n",
    "print(y)\n",
    "print(y.shape)\n",
    "print(y.size)\n",
    "print(type(y))\n",
    "print(y.dtype)"
   ]
  },
  {
   "cell_type": "code",
   "execution_count": 15,
   "id": "15572aed",
   "metadata": {
    "ExecuteTime": {
     "end_time": "2022-05-07T17:41:15.791187Z",
     "start_time": "2022-05-07T17:41:15.786017Z"
    }
   },
   "outputs": [],
   "source": [
    "x = np.array([1,2,3,4,5])\n",
    "np.save('np_array',x)"
   ]
  },
  {
   "cell_type": "code",
   "execution_count": 17,
   "id": "fe3a5e4a",
   "metadata": {
    "ExecuteTime": {
     "end_time": "2022-05-07T17:42:11.703926Z",
     "start_time": "2022-05-07T17:42:11.697330Z"
    }
   },
   "outputs": [
    {
     "name": "stdout",
     "output_type": "stream",
     "text": [
      "[1 2 3 4 5]\n"
     ]
    }
   ],
   "source": [
    "y = np.load('np_array.npy') #.npy is the extension\n",
    "\n",
    "print(y)"
   ]
  },
  {
   "cell_type": "code",
   "execution_count": null,
   "id": "35974fe8",
   "metadata": {},
   "outputs": [],
   "source": []
  }
 ],
 "metadata": {
  "kernelspec": {
   "display_name": "Python 3",
   "language": "python",
   "name": "python3"
  },
  "language_info": {
   "codemirror_mode": {
    "name": "ipython",
    "version": 3
   },
   "file_extension": ".py",
   "mimetype": "text/x-python",
   "name": "python",
   "nbconvert_exporter": "python",
   "pygments_lexer": "ipython3",
   "version": "3.8.8"
  },
  "toc": {
   "base_numbering": 1,
   "nav_menu": {},
   "number_sections": true,
   "sideBar": true,
   "skip_h1_title": false,
   "title_cell": "Table of Contents",
   "title_sidebar": "Contents",
   "toc_cell": false,
   "toc_position": {},
   "toc_section_display": true,
   "toc_window_display": false
  },
  "varInspector": {
   "cols": {
    "lenName": 16,
    "lenType": 16,
    "lenVar": 40
   },
   "kernels_config": {
    "python": {
     "delete_cmd_postfix": "",
     "delete_cmd_prefix": "del ",
     "library": "var_list.py",
     "varRefreshCmd": "print(var_dic_list())"
    },
    "r": {
     "delete_cmd_postfix": ") ",
     "delete_cmd_prefix": "rm(",
     "library": "var_list.r",
     "varRefreshCmd": "cat(var_dic_list()) "
    }
   },
   "types_to_exclude": [
    "module",
    "function",
    "builtin_function_or_method",
    "instance",
    "_Feature"
   ],
   "window_display": false
  }
 },
 "nbformat": 4,
 "nbformat_minor": 5
}
