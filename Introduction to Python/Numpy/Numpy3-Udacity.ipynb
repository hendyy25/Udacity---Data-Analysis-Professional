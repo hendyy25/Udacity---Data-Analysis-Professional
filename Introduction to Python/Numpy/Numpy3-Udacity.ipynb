{
 "cells": [
  {
   "cell_type": "code",
   "execution_count": 1,
   "id": "49790805",
   "metadata": {
    "ExecuteTime": {
     "end_time": "2022-05-08T17:11:23.085689Z",
     "start_time": "2022-05-08T17:11:23.080253Z"
    }
   },
   "outputs": [],
   "source": [
    "import numpy as np"
   ]
  },
  {
   "cell_type": "code",
   "execution_count": 4,
   "id": "82095245",
   "metadata": {
    "ExecuteTime": {
     "end_time": "2022-05-08T17:12:53.328149Z",
     "start_time": "2022-05-08T17:12:53.322398Z"
    }
   },
   "outputs": [
    {
     "name": "stdout",
     "output_type": "stream",
     "text": [
      "[1 2 3 4 5]\n",
      "1\n",
      "5\n",
      "1\n",
      "5\n"
     ]
    }
   ],
   "source": [
    "x = np.array([1,2,3,4,5])\n",
    "\n",
    "print(x)\n",
    "print(x[0])\n",
    "print(x[4])\n",
    "print(x[-5])\n",
    "print(x[-1])"
   ]
  },
  {
   "cell_type": "code",
   "execution_count": 5,
   "id": "dfedb7f5",
   "metadata": {
    "ExecuteTime": {
     "end_time": "2022-05-08T17:13:38.156010Z",
     "start_time": "2022-05-08T17:13:38.152407Z"
    }
   },
   "outputs": [
    {
     "name": "stdout",
     "output_type": "stream",
     "text": [
      "[1 2 3 4 5]\n"
     ]
    }
   ],
   "source": [
    "print(x)\n"
   ]
  },
  {
   "cell_type": "code",
   "execution_count": 6,
   "id": "5d0ed17e",
   "metadata": {
    "ExecuteTime": {
     "end_time": "2022-05-08T17:13:48.644030Z",
     "start_time": "2022-05-08T17:13:48.625594Z"
    }
   },
   "outputs": [
    {
     "data": {
      "text/plain": [
       "array([ 1,  2,  3, 10,  5])"
      ]
     },
     "execution_count": 6,
     "metadata": {},
     "output_type": "execute_result"
    }
   ],
   "source": [
    "x[3] = 10\n",
    "x"
   ]
  },
  {
   "cell_type": "code",
   "execution_count": 10,
   "id": "64001223",
   "metadata": {
    "ExecuteTime": {
     "end_time": "2022-05-08T17:16:07.731579Z",
     "start_time": "2022-05-08T17:16:07.726301Z"
    }
   },
   "outputs": [
    {
     "name": "stdout",
     "output_type": "stream",
     "text": [
      "[[1 2 3]\n",
      " [4 5 6]]\n",
      "1\n",
      "6\n"
     ]
    }
   ],
   "source": [
    "x = np.array([[1,2,3],[4,5,6]])\n",
    "\n",
    "print(x)\n",
    "print(x[0,0]) # accessing a rank 2 ndarray\n",
    "print(x[1,2])"
   ]
  },
  {
   "cell_type": "code",
   "execution_count": 11,
   "id": "88a6c70c",
   "metadata": {
    "ExecuteTime": {
     "end_time": "2022-05-08T17:16:09.974520Z",
     "start_time": "2022-05-08T17:16:09.969729Z"
    }
   },
   "outputs": [
    {
     "name": "stdout",
     "output_type": "stream",
     "text": [
      "[[1 2 3]\n",
      " [4 5 6]] \n",
      "\n",
      "[[20  2  3]\n",
      " [ 4  5  6]]\n"
     ]
    }
   ],
   "source": [
    "print(x,'\\n')\n",
    "x[0,0]=20\n",
    "print(x)"
   ]
  },
  {
   "cell_type": "code",
   "execution_count": 13,
   "id": "5f1387ce",
   "metadata": {
    "ExecuteTime": {
     "end_time": "2022-05-08T17:19:15.590557Z",
     "start_time": "2022-05-08T17:19:15.583622Z"
    }
   },
   "outputs": [
    {
     "name": "stdout",
     "output_type": "stream",
     "text": [
      "[1 2 3 4 5] \n",
      "\n",
      "[2 3 4]\n"
     ]
    }
   ],
   "source": [
    "x = np.array([1,2,3,4,5])\n",
    "print(x,'\\n')\n",
    "x = np.delete(x,[0,4]) # list of indices \n",
    "print(x)\n",
    "\n"
   ]
  },
  {
   "cell_type": "code",
   "execution_count": 16,
   "id": "c5979ce2",
   "metadata": {
    "ExecuteTime": {
     "end_time": "2022-05-08T17:20:46.084822Z",
     "start_time": "2022-05-08T17:20:46.078311Z"
    }
   },
   "outputs": [
    {
     "name": "stdout",
     "output_type": "stream",
     "text": [
      "[[1 2 3]\n",
      " [4 5 6]\n",
      " [7 8 9]] \n",
      "\n",
      "[[4 5 6]\n",
      " [7 8 9]]\n"
     ]
    }
   ],
   "source": [
    "y = np.array([[1,2,3],[4,5,6],[7,8,9]])\n",
    "print(y,'\\n')\n",
    "w = np.delete(y,0,axis=0) # second argument: first row\n",
    "print(w)"
   ]
  },
  {
   "cell_type": "code",
   "execution_count": 18,
   "id": "58bec83b",
   "metadata": {
    "ExecuteTime": {
     "end_time": "2022-05-08T17:21:21.168787Z",
     "start_time": "2022-05-08T17:21:21.162738Z"
    }
   },
   "outputs": [
    {
     "name": "stdout",
     "output_type": "stream",
     "text": [
      "[[2]\n",
      " [5]\n",
      " [8]]\n"
     ]
    }
   ],
   "source": [
    "z = np.delete(y,[0,2],axis=1)# second argument: first and last row\n",
    "print(z)"
   ]
  },
  {
   "cell_type": "code",
   "execution_count": 22,
   "id": "b2096d34",
   "metadata": {
    "ExecuteTime": {
     "end_time": "2022-05-08T17:23:50.989005Z",
     "start_time": "2022-05-08T17:23:50.982907Z"
    }
   },
   "outputs": [
    {
     "name": "stdout",
     "output_type": "stream",
     "text": [
      "[1 2 3 4 5]\n",
      "[1 2 3 4 5 6]\n",
      "[1 2 3 4 5 6 7 8]\n"
     ]
    }
   ],
   "source": [
    "x = np.array([1,2,3,4,5])\n",
    "print(x)\n",
    "x = np.append(x,6)\n",
    "print(x)\n",
    "x = np.append(x,[7,8])\n",
    "print(x)"
   ]
  },
  {
   "cell_type": "code",
   "execution_count": 27,
   "id": "6caa45c7",
   "metadata": {
    "ExecuteTime": {
     "end_time": "2022-05-08T17:26:18.818291Z",
     "start_time": "2022-05-08T17:26:18.812112Z"
    }
   },
   "outputs": [
    {
     "name": "stdout",
     "output_type": "stream",
     "text": [
      "[[1 2 3]\n",
      " [4 5 6]] \n",
      "\n",
      "[[1 2 3]\n",
      " [4 5 6]\n",
      " [7 8 9]]\n"
     ]
    }
   ],
   "source": [
    "y = np.array([[1,2,3],[4,5,6]])\n",
    "print(y,'\\n')\n",
    "v = np.append(y,[[7,8,9]],axis=0)\n",
    "print(v)"
   ]
  },
  {
   "cell_type": "code",
   "execution_count": 31,
   "id": "c8614878",
   "metadata": {
    "ExecuteTime": {
     "end_time": "2022-05-08T17:27:52.135921Z",
     "start_time": "2022-05-08T17:27:52.131378Z"
    }
   },
   "outputs": [
    {
     "name": "stdout",
     "output_type": "stream",
     "text": [
      "[[ 1  2  3  9]\n",
      " [ 4  5  6 10]]\n"
     ]
    }
   ],
   "source": [
    "q = np.append(y,[[9],[10]],axis=1) # note the the list\n",
    "print(q)"
   ]
  },
  {
   "cell_type": "code",
   "execution_count": 32,
   "id": "218f21e9",
   "metadata": {
    "ExecuteTime": {
     "end_time": "2022-05-08T17:29:50.165403Z",
     "start_time": "2022-05-08T17:29:50.161182Z"
    }
   },
   "outputs": [
    {
     "name": "stdout",
     "output_type": "stream",
     "text": [
      "[1 2 5 6 7]\n"
     ]
    }
   ],
   "source": [
    "x = np.array([1,2,5,6,7])\n",
    "print(x)"
   ]
  },
  {
   "cell_type": "code",
   "execution_count": 37,
   "id": "be972e71",
   "metadata": {
    "ExecuteTime": {
     "end_time": "2022-05-08T17:32:11.059791Z",
     "start_time": "2022-05-08T17:32:11.055306Z"
    }
   },
   "outputs": [
    {
     "name": "stdout",
     "output_type": "stream",
     "text": [
      "[[1 2 3]\n",
      " [7 8 9]]\n"
     ]
    }
   ],
   "source": [
    "y = np.array([[1,2,3],[7,8,9]])\n",
    "print(y)"
   ]
  },
  {
   "cell_type": "code",
   "execution_count": 40,
   "id": "41b595e4",
   "metadata": {
    "ExecuteTime": {
     "end_time": "2022-05-08T17:32:34.873563Z",
     "start_time": "2022-05-08T17:32:34.868967Z"
    }
   },
   "outputs": [
    {
     "name": "stdout",
     "output_type": "stream",
     "text": [
      "[[1 2 3]\n",
      " [4 5 6]\n",
      " [7 8 9]]\n"
     ]
    }
   ],
   "source": [
    "w = np.insert(y,1,[4,5,6],axis=0)\n",
    "print(w)"
   ]
  },
  {
   "cell_type": "code",
   "execution_count": 39,
   "id": "c82133f7",
   "metadata": {
    "ExecuteTime": {
     "end_time": "2022-05-08T17:32:17.485001Z",
     "start_time": "2022-05-08T17:32:17.480398Z"
    }
   },
   "outputs": [
    {
     "name": "stdout",
     "output_type": "stream",
     "text": [
      "[[1 5 2 3]\n",
      " [7 5 8 9]]\n"
     ]
    }
   ],
   "source": [
    "w = np.insert(y,1,5,axis=1)\n",
    "print(w)"
   ]
  },
  {
   "cell_type": "code",
   "execution_count": 41,
   "id": "05469c62",
   "metadata": {
    "ExecuteTime": {
     "end_time": "2022-05-08T17:34:12.766399Z",
     "start_time": "2022-05-08T17:34:12.762638Z"
    }
   },
   "outputs": [
    {
     "name": "stdout",
     "output_type": "stream",
     "text": [
      "[1 2]\n"
     ]
    }
   ],
   "source": [
    "x = np.array([1,2])\n",
    "print(x)"
   ]
  },
  {
   "cell_type": "code",
   "execution_count": 43,
   "id": "93bae0c1",
   "metadata": {
    "ExecuteTime": {
     "end_time": "2022-05-08T17:34:33.493793Z",
     "start_time": "2022-05-08T17:34:33.489521Z"
    }
   },
   "outputs": [
    {
     "name": "stdout",
     "output_type": "stream",
     "text": [
      "[[3 4]\n",
      " [5 6]]\n"
     ]
    }
   ],
   "source": [
    "y = np.array([[3,4],[5,6]])\n",
    "print(y)"
   ]
  },
  {
   "cell_type": "code",
   "execution_count": 44,
   "id": "1d416cd1",
   "metadata": {
    "ExecuteTime": {
     "end_time": "2022-05-08T17:34:57.590687Z",
     "start_time": "2022-05-08T17:34:57.586588Z"
    }
   },
   "outputs": [
    {
     "name": "stdout",
     "output_type": "stream",
     "text": [
      "[[1 2]\n",
      " [3 4]\n",
      " [5 6]]\n"
     ]
    }
   ],
   "source": [
    "z = np.vstack((x,y))\n",
    "print(z)"
   ]
  },
  {
   "cell_type": "code",
   "execution_count": 48,
   "id": "cccdcb80",
   "metadata": {
    "ExecuteTime": {
     "end_time": "2022-05-08T17:38:22.378737Z",
     "start_time": "2022-05-08T17:38:22.373552Z"
    }
   },
   "outputs": [
    {
     "name": "stdout",
     "output_type": "stream",
     "text": [
      "[[3 4 1]\n",
      " [5 6 2]]\n"
     ]
    }
   ],
   "source": [
    "w = np.hstack((y,x.reshape(2,1)))\n",
    "print(w)"
   ]
  }
 ],
 "metadata": {
  "kernelspec": {
   "display_name": "Python 3",
   "language": "python",
   "name": "python3"
  },
  "language_info": {
   "codemirror_mode": {
    "name": "ipython",
    "version": 3
   },
   "file_extension": ".py",
   "mimetype": "text/x-python",
   "name": "python",
   "nbconvert_exporter": "python",
   "pygments_lexer": "ipython3",
   "version": "3.8.8"
  },
  "toc": {
   "base_numbering": 1,
   "nav_menu": {},
   "number_sections": true,
   "sideBar": true,
   "skip_h1_title": false,
   "title_cell": "Table of Contents",
   "title_sidebar": "Contents",
   "toc_cell": false,
   "toc_position": {},
   "toc_section_display": true,
   "toc_window_display": false
  },
  "varInspector": {
   "cols": {
    "lenName": 16,
    "lenType": 16,
    "lenVar": 40
   },
   "kernels_config": {
    "python": {
     "delete_cmd_postfix": "",
     "delete_cmd_prefix": "del ",
     "library": "var_list.py",
     "varRefreshCmd": "print(var_dic_list())"
    },
    "r": {
     "delete_cmd_postfix": ") ",
     "delete_cmd_prefix": "rm(",
     "library": "var_list.r",
     "varRefreshCmd": "cat(var_dic_list()) "
    }
   },
   "types_to_exclude": [
    "module",
    "function",
    "builtin_function_or_method",
    "instance",
    "_Feature"
   ],
   "window_display": false
  }
 },
 "nbformat": 4,
 "nbformat_minor": 5
}
