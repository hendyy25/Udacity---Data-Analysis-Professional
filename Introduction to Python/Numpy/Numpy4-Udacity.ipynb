{
 "cells": [
  {
   "cell_type": "code",
   "execution_count": 1,
   "id": "9ab1999a",
   "metadata": {
    "ExecuteTime": {
     "end_time": "2022-05-08T17:51:46.811629Z",
     "start_time": "2022-05-08T17:51:46.806911Z"
    }
   },
   "outputs": [],
   "source": [
    "import numpy as np"
   ]
  },
  {
   "cell_type": "code",
   "execution_count": 2,
   "id": "3b2e916f",
   "metadata": {
    "ExecuteTime": {
     "end_time": "2022-05-08T17:52:17.525713Z",
     "start_time": "2022-05-08T17:52:17.520495Z"
    }
   },
   "outputs": [
    {
     "name": "stdout",
     "output_type": "stream",
     "text": [
      "[[ 0  1  2  3  4]\n",
      " [ 5  6  7  8  9]\n",
      " [10 11 12 13 14]\n",
      " [15 16 17 18 19]]\n"
     ]
    }
   ],
   "source": [
    "x = np.arange(0,20).reshape(4,5)\n",
    "print(x)"
   ]
  },
  {
   "cell_type": "code",
   "execution_count": 4,
   "id": "c4e7ef7e",
   "metadata": {
    "ExecuteTime": {
     "end_time": "2022-05-08T17:53:14.592533Z",
     "start_time": "2022-05-08T17:53:14.588103Z"
    }
   },
   "outputs": [
    {
     "name": "stdout",
     "output_type": "stream",
     "text": [
      "[[ 7  8  9]\n",
      " [12 13 14]\n",
      " [17 18 19]]\n"
     ]
    }
   ],
   "source": [
    "z = x[1:,2:]\n",
    "print(z)"
   ]
  },
  {
   "cell_type": "code",
   "execution_count": 5,
   "id": "2b9d6848",
   "metadata": {
    "ExecuteTime": {
     "end_time": "2022-05-08T17:54:25.305251Z",
     "start_time": "2022-05-08T17:54:25.300608Z"
    }
   },
   "outputs": [
    {
     "name": "stdout",
     "output_type": "stream",
     "text": [
      "[[ 2  3  4]\n",
      " [ 7  8  9]\n",
      " [12 13 14]]\n"
     ]
    }
   ],
   "source": [
    "y = np.array([[2,3,4],[7,8,9],[12,13,14]])\n",
    "print(y)"
   ]
  },
  {
   "cell_type": "code",
   "execution_count": 6,
   "id": "a97c1bb4",
   "metadata": {
    "ExecuteTime": {
     "end_time": "2022-05-08T17:54:57.843452Z",
     "start_time": "2022-05-08T17:54:57.839789Z"
    }
   },
   "outputs": [
    {
     "name": "stdout",
     "output_type": "stream",
     "text": [
      "[12 13 14]\n"
     ]
    }
   ],
   "source": [
    "v = y[2,:]\n",
    "print(v)"
   ]
  },
  {
   "cell_type": "code",
   "execution_count": 7,
   "id": "89b1004c",
   "metadata": {
    "ExecuteTime": {
     "end_time": "2022-05-08T17:56:37.276635Z",
     "start_time": "2022-05-08T17:56:37.272910Z"
    }
   },
   "outputs": [
    {
     "name": "stdout",
     "output_type": "stream",
     "text": [
      "[ 2  7 12 17]\n"
     ]
    }
   ],
   "source": [
    "q = x[:,2]\n",
    "print(q)"
   ]
  },
  {
   "cell_type": "code",
   "execution_count": 9,
   "id": "0b4dff1f",
   "metadata": {
    "ExecuteTime": {
     "end_time": "2022-05-08T17:57:39.734760Z",
     "start_time": "2022-05-08T17:57:39.730240Z"
    }
   },
   "outputs": [
    {
     "name": "stdout",
     "output_type": "stream",
     "text": [
      "[[ 2]\n",
      " [ 7]\n",
      " [12]\n",
      " [17]]\n"
     ]
    }
   ],
   "source": [
    "r = x[:,2:3] # to print a rank 2 ndarray\n",
    "print(r)"
   ]
  },
  {
   "cell_type": "code",
   "execution_count": 13,
   "id": "2c06c228",
   "metadata": {
    "ExecuteTime": {
     "end_time": "2022-05-08T18:01:09.578312Z",
     "start_time": "2022-05-08T18:01:09.574075Z"
    }
   },
   "outputs": [
    {
     "name": "stdout",
     "output_type": "stream",
     "text": [
      "[[ 0  1  2  3  4]\n",
      " [ 5  6  7  8  9]\n",
      " [10 11 12 13 14]\n",
      " [15 16 17 18 19]]\n"
     ]
    }
   ],
   "source": [
    "## slicing and copying \n",
    "x = np.arange(0,20).reshape(4,5)\n",
    "print(x)"
   ]
  },
  {
   "cell_type": "code",
   "execution_count": 14,
   "id": "f029f4b3",
   "metadata": {
    "ExecuteTime": {
     "end_time": "2022-05-08T18:01:11.801135Z",
     "start_time": "2022-05-08T18:01:11.797253Z"
    }
   },
   "outputs": [
    {
     "name": "stdout",
     "output_type": "stream",
     "text": [
      "[[ 7  8  9]\n",
      " [12 13 14]\n",
      " [17 18 19]]\n"
     ]
    }
   ],
   "source": [
    "z = x[1:,2:]\n",
    "print(z)"
   ]
  },
  {
   "cell_type": "code",
   "execution_count": 15,
   "id": "6dfaa1a7",
   "metadata": {
    "ExecuteTime": {
     "end_time": "2022-05-08T18:01:28.604827Z",
     "start_time": "2022-05-08T18:01:28.601069Z"
    }
   },
   "outputs": [
    {
     "name": "stdout",
     "output_type": "stream",
     "text": [
      "[[  0   1   2   3   4]\n",
      " [  5   6   7   8   9]\n",
      " [ 10  11  12  13  14]\n",
      " [ 15  16  17  18 555]]\n"
     ]
    }
   ],
   "source": [
    "z[2,2]=555\n",
    "print(x) # x also changes"
   ]
  },
  {
   "cell_type": "code",
   "execution_count": 17,
   "id": "c1d47291",
   "metadata": {
    "ExecuteTime": {
     "end_time": "2022-05-08T18:02:59.037595Z",
     "start_time": "2022-05-08T18:02:59.033326Z"
    }
   },
   "outputs": [
    {
     "name": "stdout",
     "output_type": "stream",
     "text": [
      "[[ 0  1  2  3  4]\n",
      " [ 5  6  7  8  9]\n",
      " [10 11 12 13 14]\n",
      " [15 16 17 18 19]]\n"
     ]
    }
   ],
   "source": [
    "x = np.arange(0,20).reshape(4,5)\n",
    "print(x)"
   ]
  },
  {
   "cell_type": "code",
   "execution_count": 18,
   "id": "51045784",
   "metadata": {
    "ExecuteTime": {
     "end_time": "2022-05-08T18:04:24.074206Z",
     "start_time": "2022-05-08T18:04:24.069428Z"
    }
   },
   "outputs": [
    {
     "name": "stdout",
     "output_type": "stream",
     "text": [
      "[[  7   8   9]\n",
      " [ 12  13  14]\n",
      " [ 17  18 555]]\n"
     ]
    }
   ],
   "source": [
    "z = np.copy(x[1:,2:])\n",
    "z[2,2]=555\n",
    "print(z)"
   ]
  },
  {
   "cell_type": "code",
   "execution_count": 19,
   "id": "b04414b2",
   "metadata": {
    "ExecuteTime": {
     "end_time": "2022-05-08T18:04:27.328943Z",
     "start_time": "2022-05-08T18:04:27.325113Z"
    }
   },
   "outputs": [
    {
     "name": "stdout",
     "output_type": "stream",
     "text": [
      "[[ 0  1  2  3  4]\n",
      " [ 5  6  7  8  9]\n",
      " [10 11 12 13 14]\n",
      " [15 16 17 18 19]]\n"
     ]
    }
   ],
   "source": [
    "print(x)"
   ]
  },
  {
   "cell_type": "code",
   "execution_count": 20,
   "id": "1435eb80",
   "metadata": {
    "ExecuteTime": {
     "end_time": "2022-05-08T18:04:59.297377Z",
     "start_time": "2022-05-08T18:04:59.292946Z"
    }
   },
   "outputs": [
    {
     "name": "stdout",
     "output_type": "stream",
     "text": [
      "[[  7   8   9]\n",
      " [ 12  13  14]\n",
      " [ 17  18 444]]\n"
     ]
    }
   ],
   "source": [
    "w = x[1:,2:].copy()\n",
    "w[2,2]=444\n",
    "print(w)"
   ]
  },
  {
   "cell_type": "code",
   "execution_count": 21,
   "id": "3f0c7cc7",
   "metadata": {
    "ExecuteTime": {
     "end_time": "2022-05-08T18:05:01.561433Z",
     "start_time": "2022-05-08T18:05:01.557797Z"
    }
   },
   "outputs": [
    {
     "name": "stdout",
     "output_type": "stream",
     "text": [
      "[[ 0  1  2  3  4]\n",
      " [ 5  6  7  8  9]\n",
      " [10 11 12 13 14]\n",
      " [15 16 17 18 19]]\n"
     ]
    }
   ],
   "source": [
    "print(x)"
   ]
  },
  {
   "cell_type": "code",
   "execution_count": 23,
   "id": "170f0a2b",
   "metadata": {
    "ExecuteTime": {
     "end_time": "2022-05-08T18:07:05.095145Z",
     "start_time": "2022-05-08T18:07:05.091067Z"
    }
   },
   "outputs": [
    {
     "name": "stdout",
     "output_type": "stream",
     "text": [
      "[[ 0  1  2  3  4]\n",
      " [ 5  6  7  8  9]\n",
      " [10 11 12 13 14]\n",
      " [15 16 17 18 19]]\n"
     ]
    }
   ],
   "source": [
    "x = np.arange(20).reshape(4,5)\n",
    "print(x)"
   ]
  },
  {
   "cell_type": "code",
   "execution_count": 24,
   "id": "67ab2f2d",
   "metadata": {
    "ExecuteTime": {
     "end_time": "2022-05-08T18:07:06.373593Z",
     "start_time": "2022-05-08T18:07:06.369252Z"
    }
   },
   "outputs": [
    {
     "name": "stdout",
     "output_type": "stream",
     "text": [
      "[[ 5  6  7  8  9]\n",
      " [15 16 17 18 19]]\n"
     ]
    }
   ],
   "source": [
    "indices = np.array([1,3])\n",
    "y = x[indices,:]\n",
    "print(y)"
   ]
  },
  {
   "cell_type": "code",
   "execution_count": 25,
   "id": "5c0d1ae3",
   "metadata": {
    "ExecuteTime": {
     "end_time": "2022-05-08T18:07:29.731272Z",
     "start_time": "2022-05-08T18:07:29.727325Z"
    }
   },
   "outputs": [
    {
     "name": "stdout",
     "output_type": "stream",
     "text": [
      "[[ 1  3]\n",
      " [ 6  8]\n",
      " [11 13]\n",
      " [16 18]]\n"
     ]
    }
   ],
   "source": [
    "z = x[:,indices]\n",
    "print(z)"
   ]
  },
  {
   "cell_type": "code",
   "execution_count": 33,
   "id": "76d209bc",
   "metadata": {
    "ExecuteTime": {
     "end_time": "2022-05-08T18:39:27.566732Z",
     "start_time": "2022-05-08T18:39:27.562504Z"
    }
   },
   "outputs": [
    {
     "name": "stdout",
     "output_type": "stream",
     "text": [
      "[[ 0  1  2  3  4]\n",
      " [ 5  6  7  8  9]\n",
      " [10 11 12 13 14]\n",
      " [15 16 17 18 19]\n",
      " [20 21 22 23 24]]\n"
     ]
    }
   ],
   "source": [
    "x = np.arange(0,25).reshape(5,5)\n",
    "print(x)"
   ]
  },
  {
   "cell_type": "code",
   "execution_count": 34,
   "id": "ddc5e962",
   "metadata": {
    "ExecuteTime": {
     "end_time": "2022-05-08T18:39:49.558403Z",
     "start_time": "2022-05-08T18:39:49.552719Z"
    }
   },
   "outputs": [
    {
     "name": "stdout",
     "output_type": "stream",
     "text": [
      "[ 0  6 12 18 24]\n"
     ]
    }
   ],
   "source": [
    "z = np.diag(x)\n",
    "print(z)"
   ]
  },
  {
   "cell_type": "code",
   "execution_count": 35,
   "id": "c26b0399",
   "metadata": {
    "ExecuteTime": {
     "end_time": "2022-05-08T18:40:11.004043Z",
     "start_time": "2022-05-08T18:40:10.999129Z"
    }
   },
   "outputs": [
    {
     "name": "stdout",
     "output_type": "stream",
     "text": [
      "[ 1  7 13 19]\n"
     ]
    }
   ],
   "source": [
    "y = np.diag(x,k=1)\n",
    "print(y)"
   ]
  },
  {
   "cell_type": "code",
   "execution_count": 40,
   "id": "51978ba5",
   "metadata": {
    "ExecuteTime": {
     "end_time": "2022-05-08T18:40:42.651659Z",
     "start_time": "2022-05-08T18:40:42.647700Z"
    }
   },
   "outputs": [
    {
     "name": "stdout",
     "output_type": "stream",
     "text": [
      "[15 21]\n"
     ]
    }
   ],
   "source": [
    "w = np.diag(x,k=-3)\n",
    "print(w)"
   ]
  },
  {
   "cell_type": "code",
   "execution_count": 41,
   "id": "8fe28be3",
   "metadata": {
    "ExecuteTime": {
     "end_time": "2022-05-08T18:41:15.939532Z",
     "start_time": "2022-05-08T18:41:15.935048Z"
    }
   },
   "outputs": [
    {
     "name": "stdout",
     "output_type": "stream",
     "text": [
      "[[1 2 3]\n",
      " [5 2 8]\n",
      " [1 2 3]]\n"
     ]
    }
   ],
   "source": [
    "x = np.array([[1,2,3],[5,2,8],[1,2,3]])\n",
    "print(x)"
   ]
  },
  {
   "cell_type": "code",
   "execution_count": 44,
   "id": "4240cffa",
   "metadata": {
    "ExecuteTime": {
     "end_time": "2022-05-08T18:41:39.418006Z",
     "start_time": "2022-05-08T18:41:39.411061Z"
    }
   },
   "outputs": [
    {
     "name": "stdout",
     "output_type": "stream",
     "text": [
      "[1 2 3 5 8]\n"
     ]
    }
   ],
   "source": [
    "print(np.unique(x))"
   ]
  },
  {
   "cell_type": "code",
   "execution_count": null,
   "id": "f1480259",
   "metadata": {},
   "outputs": [],
   "source": []
  }
 ],
 "metadata": {
  "kernelspec": {
   "display_name": "Python 3",
   "language": "python",
   "name": "python3"
  },
  "language_info": {
   "codemirror_mode": {
    "name": "ipython",
    "version": 3
   },
   "file_extension": ".py",
   "mimetype": "text/x-python",
   "name": "python",
   "nbconvert_exporter": "python",
   "pygments_lexer": "ipython3",
   "version": "3.8.8"
  },
  "toc": {
   "base_numbering": 1,
   "nav_menu": {},
   "number_sections": true,
   "sideBar": true,
   "skip_h1_title": false,
   "title_cell": "Table of Contents",
   "title_sidebar": "Contents",
   "toc_cell": false,
   "toc_position": {},
   "toc_section_display": true,
   "toc_window_display": false
  },
  "varInspector": {
   "cols": {
    "lenName": 16,
    "lenType": 16,
    "lenVar": 40
   },
   "kernels_config": {
    "python": {
     "delete_cmd_postfix": "",
     "delete_cmd_prefix": "del ",
     "library": "var_list.py",
     "varRefreshCmd": "print(var_dic_list())"
    },
    "r": {
     "delete_cmd_postfix": ") ",
     "delete_cmd_prefix": "rm(",
     "library": "var_list.r",
     "varRefreshCmd": "cat(var_dic_list()) "
    }
   },
   "types_to_exclude": [
    "module",
    "function",
    "builtin_function_or_method",
    "instance",
    "_Feature"
   ],
   "window_display": false
  }
 },
 "nbformat": 4,
 "nbformat_minor": 5
}
