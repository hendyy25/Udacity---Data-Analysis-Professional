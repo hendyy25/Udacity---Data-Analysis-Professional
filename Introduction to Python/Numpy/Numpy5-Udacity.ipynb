{
 "cells": [
  {
   "cell_type": "code",
   "execution_count": 1,
   "id": "eeeaaf15",
   "metadata": {
    "ExecuteTime": {
     "end_time": "2022-05-08T18:47:30.734688Z",
     "start_time": "2022-05-08T18:47:30.731059Z"
    }
   },
   "outputs": [],
   "source": [
    "import numpy as np"
   ]
  },
  {
   "cell_type": "code",
   "execution_count": 2,
   "id": "3c9df539",
   "metadata": {
    "ExecuteTime": {
     "end_time": "2022-05-08T18:52:35.995670Z",
     "start_time": "2022-05-08T18:52:35.990897Z"
    }
   },
   "outputs": [
    {
     "name": "stdout",
     "output_type": "stream",
     "text": [
      "[[ 0  1  2  3  4]\n",
      " [ 5  6  7  8  9]\n",
      " [10 11 12 13 14]\n",
      " [15 16 17 18 19]\n",
      " [20 21 22 23 24]]\n"
     ]
    }
   ],
   "source": [
    "# boolean indexing \n",
    "x = np.arange(25).reshape(5,5)\n",
    "print(x)"
   ]
  },
  {
   "cell_type": "code",
   "execution_count": 3,
   "id": "1c23d474",
   "metadata": {
    "ExecuteTime": {
     "end_time": "2022-05-08T18:52:52.172060Z",
     "start_time": "2022-05-08T18:52:52.167814Z"
    }
   },
   "outputs": [
    {
     "name": "stdout",
     "output_type": "stream",
     "text": [
      "[11 12 13 14 15 16 17 18 19 20 21 22 23 24]\n"
     ]
    }
   ],
   "source": [
    "print(x[x>10])"
   ]
  },
  {
   "cell_type": "code",
   "execution_count": 5,
   "id": "c461f978",
   "metadata": {
    "ExecuteTime": {
     "end_time": "2022-05-08T18:53:28.747645Z",
     "start_time": "2022-05-08T18:53:28.741056Z"
    }
   },
   "outputs": [
    {
     "name": "stdout",
     "output_type": "stream",
     "text": [
      "[0 1 2 3 4 5 6 7]\n"
     ]
    }
   ],
   "source": [
    "print(x[x<=7])"
   ]
  },
  {
   "cell_type": "code",
   "execution_count": 9,
   "id": "5f28fbd8",
   "metadata": {
    "ExecuteTime": {
     "end_time": "2022-05-08T18:54:07.158691Z",
     "start_time": "2022-05-08T18:54:07.153574Z"
    }
   },
   "outputs": [
    {
     "name": "stdout",
     "output_type": "stream",
     "text": [
      "[11 12 13 14 15 16]\n"
     ]
    }
   ],
   "source": [
    "print(x[(x>10) & (x<17)])"
   ]
  },
  {
   "cell_type": "code",
   "execution_count": 10,
   "id": "3589bdf5",
   "metadata": {
    "ExecuteTime": {
     "end_time": "2022-05-08T18:54:48.565058Z",
     "start_time": "2022-05-08T18:54:48.559530Z"
    }
   },
   "outputs": [
    {
     "name": "stdout",
     "output_type": "stream",
     "text": [
      "[[ 0  1  2  3  4]\n",
      " [ 5  6  7  8  9]\n",
      " [10 -1 -1 -1 -1]\n",
      " [-1 -1 17 18 19]\n",
      " [20 21 22 23 24]]\n"
     ]
    }
   ],
   "source": [
    "x[(x<17) & (x>10)]=-1\n",
    "print(x)"
   ]
  },
  {
   "cell_type": "code",
   "execution_count": 13,
   "id": "43ce343f",
   "metadata": {
    "ExecuteTime": {
     "end_time": "2022-05-08T18:56:43.447280Z",
     "start_time": "2022-05-08T18:56:43.438928Z"
    }
   },
   "outputs": [
    {
     "name": "stdout",
     "output_type": "stream",
     "text": [
      "[1 2 3 4 5]\n",
      "[6 7 2 8 4]\n",
      "[2 4]\n",
      "[1 3 5]\n",
      "[1 2 3 4 5 6 7 8]\n"
     ]
    }
   ],
   "source": [
    "# set operations \n",
    "x = np.array([1,2,3,4,5])\n",
    "y = np.array([6,7,2,8,4])\n",
    "print(x)\n",
    "print(y)\n",
    "print(np.intersect1d(x,y))\n",
    "print(np.setdiff1d(x,y))\n",
    "print(np.union1d(x,y))"
   ]
  },
  {
   "cell_type": "code",
   "execution_count": 34,
   "id": "31a0a66d",
   "metadata": {
    "ExecuteTime": {
     "end_time": "2022-05-08T19:03:49.801994Z",
     "start_time": "2022-05-08T19:03:49.797650Z"
    }
   },
   "outputs": [
    {
     "name": "stdout",
     "output_type": "stream",
     "text": [
      "[7 6 7 7 4 8 2 9 2 0]\n"
     ]
    }
   ],
   "source": [
    "x = np.random.randint(0,11,size=(10,))\n",
    "print(x)"
   ]
  },
  {
   "cell_type": "code",
   "execution_count": 43,
   "id": "f29db17c",
   "metadata": {
    "ExecuteTime": {
     "end_time": "2022-05-08T19:05:32.670312Z",
     "start_time": "2022-05-08T19:05:32.664429Z"
    }
   },
   "outputs": [
    {
     "name": "stdout",
     "output_type": "stream",
     "text": [
      "[0 2 2 4 6 7 7 7 8 9]\n",
      "[0 2 2 4 6 7 7 7 8 9]\n",
      "[0 2 2 4 6 7 7 7 8 9 1]\n",
      "[0 2 2 4 6 7 7 7 8 9]\n"
     ]
    }
   ],
   "source": [
    "print(np.sort(x))\n",
    "y = np.sort(x) \n",
    "print(y)\n",
    "y = np.append(y,1)\n",
    "print(y)\n",
    "print(x)"
   ]
  },
  {
   "cell_type": "code",
   "execution_count": 44,
   "id": "d1d42092",
   "metadata": {
    "ExecuteTime": {
     "end_time": "2022-05-08T19:06:03.486580Z",
     "start_time": "2022-05-08T19:06:03.482992Z"
    }
   },
   "outputs": [
    {
     "name": "stdout",
     "output_type": "stream",
     "text": [
      "[0 2 2 4 6 7 7 7 8 9]\n"
     ]
    }
   ],
   "source": [
    "print(x)"
   ]
  },
  {
   "cell_type": "code",
   "execution_count": 45,
   "id": "957aff18",
   "metadata": {
    "ExecuteTime": {
     "end_time": "2022-05-08T19:06:04.986917Z",
     "start_time": "2022-05-08T19:06:04.983429Z"
    }
   },
   "outputs": [
    {
     "name": "stdout",
     "output_type": "stream",
     "text": [
      "None\n"
     ]
    }
   ],
   "source": [
    "print(x.sort())"
   ]
  },
  {
   "cell_type": "code",
   "execution_count": 46,
   "id": "bab0933a",
   "metadata": {
    "ExecuteTime": {
     "end_time": "2022-05-08T19:06:06.207080Z",
     "start_time": "2022-05-08T19:06:06.203519Z"
    }
   },
   "outputs": [
    {
     "name": "stdout",
     "output_type": "stream",
     "text": [
      "[0 2 2 4 6 7 7 7 8 9]\n"
     ]
    }
   ],
   "source": [
    "print(x)"
   ]
  },
  {
   "cell_type": "code",
   "execution_count": 47,
   "id": "45ab7d7b",
   "metadata": {
    "ExecuteTime": {
     "end_time": "2022-05-08T19:06:14.275797Z",
     "start_time": "2022-05-08T19:06:14.271419Z"
    }
   },
   "outputs": [
    {
     "name": "stdout",
     "output_type": "stream",
     "text": [
      "[0 2 4 6 7 8 9]\n"
     ]
    }
   ],
   "source": [
    "print(np.unique(x))"
   ]
  },
  {
   "cell_type": "code",
   "execution_count": 51,
   "id": "6febfe53",
   "metadata": {
    "ExecuteTime": {
     "end_time": "2022-05-08T19:13:59.359086Z",
     "start_time": "2022-05-08T19:13:59.354689Z"
    }
   },
   "outputs": [
    {
     "name": "stdout",
     "output_type": "stream",
     "text": [
      "[[ 5  7  7  2  5]\n",
      " [ 8  2  2  8  7]\n",
      " [ 2  3  4  8  2]\n",
      " [ 7  1  5  2  4]\n",
      " [ 6  1  6  4 10]]\n"
     ]
    }
   ],
   "source": [
    "x = np.random.randint(1,11,size=(5,5))\n",
    "print(x)"
   ]
  },
  {
   "cell_type": "code",
   "execution_count": 52,
   "id": "b38922b2",
   "metadata": {
    "ExecuteTime": {
     "end_time": "2022-05-08T19:14:01.392504Z",
     "start_time": "2022-05-08T19:14:01.388347Z"
    }
   },
   "outputs": [
    {
     "name": "stdout",
     "output_type": "stream",
     "text": [
      "[[ 2  1  2  2  2]\n",
      " [ 5  1  4  2  4]\n",
      " [ 6  2  5  4  5]\n",
      " [ 7  3  6  8  7]\n",
      " [ 8  7  7  8 10]]\n"
     ]
    }
   ],
   "source": [
    "print(np.sort(x,axis=0))"
   ]
  },
  {
   "cell_type": "code",
   "execution_count": 54,
   "id": "659013a3",
   "metadata": {
    "ExecuteTime": {
     "end_time": "2022-05-08T19:14:19.026284Z",
     "start_time": "2022-05-08T19:14:19.021925Z"
    }
   },
   "outputs": [
    {
     "name": "stdout",
     "output_type": "stream",
     "text": [
      "[[ 2  5  5  7  7]\n",
      " [ 2  2  7  8  8]\n",
      " [ 2  2  3  4  8]\n",
      " [ 1  2  4  5  7]\n",
      " [ 1  4  6  6 10]]\n"
     ]
    }
   ],
   "source": [
    "print(np.sort(x,axis=1))"
   ]
  },
  {
   "cell_type": "code",
   "execution_count": null,
   "id": "9b02697e",
   "metadata": {},
   "outputs": [],
   "source": []
  }
 ],
 "metadata": {
  "kernelspec": {
   "display_name": "Python 3",
   "language": "python",
   "name": "python3"
  },
  "language_info": {
   "codemirror_mode": {
    "name": "ipython",
    "version": 3
   },
   "file_extension": ".py",
   "mimetype": "text/x-python",
   "name": "python",
   "nbconvert_exporter": "python",
   "pygments_lexer": "ipython3",
   "version": "3.8.8"
  },
  "toc": {
   "base_numbering": 1,
   "nav_menu": {},
   "number_sections": true,
   "sideBar": true,
   "skip_h1_title": false,
   "title_cell": "Table of Contents",
   "title_sidebar": "Contents",
   "toc_cell": false,
   "toc_position": {},
   "toc_section_display": true,
   "toc_window_display": false
  },
  "varInspector": {
   "cols": {
    "lenName": 16,
    "lenType": 16,
    "lenVar": 40
   },
   "kernels_config": {
    "python": {
     "delete_cmd_postfix": "",
     "delete_cmd_prefix": "del ",
     "library": "var_list.py",
     "varRefreshCmd": "print(var_dic_list())"
    },
    "r": {
     "delete_cmd_postfix": ") ",
     "delete_cmd_prefix": "rm(",
     "library": "var_list.r",
     "varRefreshCmd": "cat(var_dic_list()) "
    }
   },
   "types_to_exclude": [
    "module",
    "function",
    "builtin_function_or_method",
    "instance",
    "_Feature"
   ],
   "window_display": false
  }
 },
 "nbformat": 4,
 "nbformat_minor": 5
}
