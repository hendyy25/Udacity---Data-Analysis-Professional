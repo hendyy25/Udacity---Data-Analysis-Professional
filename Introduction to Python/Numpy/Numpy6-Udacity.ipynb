{
 "cells": [
  {
   "cell_type": "code",
   "execution_count": 1,
   "id": "30ab13b4",
   "metadata": {
    "ExecuteTime": {
     "end_time": "2022-05-09T17:54:23.399038Z",
     "start_time": "2022-05-09T17:54:23.394635Z"
    }
   },
   "outputs": [],
   "source": [
    "import numpy as np"
   ]
  },
  {
   "cell_type": "code",
   "execution_count": 2,
   "id": "344e3d93",
   "metadata": {
    "ExecuteTime": {
     "end_time": "2022-05-09T17:54:37.681550Z",
     "start_time": "2022-05-09T17:54:37.673387Z"
    }
   },
   "outputs": [
    {
     "name": "stdout",
     "output_type": "stream",
     "text": [
      "[1 2 3 4]\n"
     ]
    }
   ],
   "source": [
    "x = np.array([1,2,3,4])\n",
    "print(x)"
   ]
  },
  {
   "cell_type": "code",
   "execution_count": 3,
   "id": "512d1e4e",
   "metadata": {
    "ExecuteTime": {
     "end_time": "2022-05-09T17:54:58.914406Z",
     "start_time": "2022-05-09T17:54:58.907099Z"
    }
   },
   "outputs": [
    {
     "name": "stdout",
     "output_type": "stream",
     "text": [
      "[5.5 6.5 7.5 8.5]\n"
     ]
    }
   ],
   "source": [
    "y = np.array([5.5,6.5,7.5,8.5])\n",
    "print(y)"
   ]
  },
  {
   "cell_type": "code",
   "execution_count": 5,
   "id": "0ca172e0",
   "metadata": {
    "ExecuteTime": {
     "end_time": "2022-05-09T17:55:14.386260Z",
     "start_time": "2022-05-09T17:55:14.381937Z"
    }
   },
   "outputs": [
    {
     "name": "stdout",
     "output_type": "stream",
     "text": [
      "[ 6.5  8.5 10.5 12.5]\n"
     ]
    }
   ],
   "source": [
    "print(x+y)"
   ]
  },
  {
   "cell_type": "code",
   "execution_count": 6,
   "id": "b344407c",
   "metadata": {
    "ExecuteTime": {
     "end_time": "2022-05-09T17:55:21.109447Z",
     "start_time": "2022-05-09T17:55:21.105024Z"
    }
   },
   "outputs": [
    {
     "name": "stdout",
     "output_type": "stream",
     "text": [
      "[ 6.5  8.5 10.5 12.5]\n"
     ]
    }
   ],
   "source": [
    "print(np.add(x,y))"
   ]
  },
  {
   "cell_type": "code",
   "execution_count": 7,
   "id": "4e095c3d",
   "metadata": {
    "ExecuteTime": {
     "end_time": "2022-05-09T17:55:26.176813Z",
     "start_time": "2022-05-09T17:55:26.173026Z"
    }
   },
   "outputs": [
    {
     "name": "stdout",
     "output_type": "stream",
     "text": [
      "[-4.5 -4.5 -4.5 -4.5]\n"
     ]
    }
   ],
   "source": [
    "print(x-y)"
   ]
  },
  {
   "cell_type": "code",
   "execution_count": 8,
   "id": "876c7e3f",
   "metadata": {
    "ExecuteTime": {
     "end_time": "2022-05-09T17:55:32.481318Z",
     "start_time": "2022-05-09T17:55:32.476826Z"
    }
   },
   "outputs": [
    {
     "name": "stdout",
     "output_type": "stream",
     "text": [
      "[-4.5 -4.5 -4.5 -4.5]\n"
     ]
    }
   ],
   "source": [
    "print(np.subtract(x,y))"
   ]
  },
  {
   "cell_type": "code",
   "execution_count": 9,
   "id": "2436c5e4",
   "metadata": {
    "ExecuteTime": {
     "end_time": "2022-05-09T17:55:40.413054Z",
     "start_time": "2022-05-09T17:55:40.409185Z"
    }
   },
   "outputs": [
    {
     "name": "stdout",
     "output_type": "stream",
     "text": [
      "[ 5.5 13.  22.5 34. ]\n"
     ]
    }
   ],
   "source": [
    "print(x*y)"
   ]
  },
  {
   "cell_type": "code",
   "execution_count": 10,
   "id": "d754a49d",
   "metadata": {
    "ExecuteTime": {
     "end_time": "2022-05-09T17:55:50.761096Z",
     "start_time": "2022-05-09T17:55:50.756930Z"
    }
   },
   "outputs": [
    {
     "name": "stdout",
     "output_type": "stream",
     "text": [
      "[ 5.5 13.  22.5 34. ]\n"
     ]
    }
   ],
   "source": [
    "print(np.multiply(x,y))"
   ]
  },
  {
   "cell_type": "code",
   "execution_count": 11,
   "id": "0e8beafc",
   "metadata": {
    "ExecuteTime": {
     "end_time": "2022-05-09T17:55:58.296124Z",
     "start_time": "2022-05-09T17:55:58.291885Z"
    }
   },
   "outputs": [
    {
     "name": "stdout",
     "output_type": "stream",
     "text": [
      "[0.18181818 0.30769231 0.4        0.47058824]\n"
     ]
    }
   ],
   "source": [
    "print(x/y)"
   ]
  },
  {
   "cell_type": "code",
   "execution_count": 12,
   "id": "e60fbe3d",
   "metadata": {
    "ExecuteTime": {
     "end_time": "2022-05-09T17:56:06.703610Z",
     "start_time": "2022-05-09T17:56:06.699428Z"
    }
   },
   "outputs": [
    {
     "name": "stdout",
     "output_type": "stream",
     "text": [
      "[0.18181818 0.30769231 0.4        0.47058824]\n"
     ]
    }
   ],
   "source": [
    "print(np.divide(x,y))"
   ]
  },
  {
   "cell_type": "code",
   "execution_count": 14,
   "id": "5ce85a19",
   "metadata": {
    "ExecuteTime": {
     "end_time": "2022-05-09T17:57:31.041234Z",
     "start_time": "2022-05-09T17:57:31.036249Z"
    }
   },
   "outputs": [
    {
     "name": "stdout",
     "output_type": "stream",
     "text": [
      "[[1 2]\n",
      " [3 4]] \n",
      "\n",
      "[[5.5 6.5]\n",
      " [7.5 8.5]]\n"
     ]
    }
   ],
   "source": [
    "# to work with rank 2 arrays, arrays must be of the same shape\n",
    "# or broadcastable\n",
    "x = x.reshape(2,2)\n",
    "y = y.reshape(2,2)\n",
    "print(x,'\\n')\n",
    "print(y)"
   ]
  },
  {
   "cell_type": "code",
   "execution_count": 15,
   "id": "aca34095",
   "metadata": {
    "ExecuteTime": {
     "end_time": "2022-05-09T17:57:40.803264Z",
     "start_time": "2022-05-09T17:57:40.799423Z"
    }
   },
   "outputs": [
    {
     "name": "stdout",
     "output_type": "stream",
     "text": [
      "[[ 6.5  8.5]\n",
      " [10.5 12.5]]\n"
     ]
    }
   ],
   "source": [
    "print(x+y)"
   ]
  },
  {
   "cell_type": "code",
   "execution_count": 16,
   "id": "9841ea0d",
   "metadata": {
    "ExecuteTime": {
     "end_time": "2022-05-09T17:57:47.094669Z",
     "start_time": "2022-05-09T17:57:47.089987Z"
    }
   },
   "outputs": [
    {
     "name": "stdout",
     "output_type": "stream",
     "text": [
      "[[ 6.5  8.5]\n",
      " [10.5 12.5]]\n"
     ]
    }
   ],
   "source": [
    "print(np.add(x,y))"
   ]
  },
  {
   "cell_type": "code",
   "execution_count": 17,
   "id": "159e3511",
   "metadata": {
    "ExecuteTime": {
     "end_time": "2022-05-09T17:57:52.229964Z",
     "start_time": "2022-05-09T17:57:52.226094Z"
    }
   },
   "outputs": [
    {
     "name": "stdout",
     "output_type": "stream",
     "text": [
      "[[-4.5 -4.5]\n",
      " [-4.5 -4.5]]\n"
     ]
    }
   ],
   "source": [
    "print(x-y)"
   ]
  },
  {
   "cell_type": "code",
   "execution_count": 18,
   "id": "39564ad7",
   "metadata": {
    "ExecuteTime": {
     "end_time": "2022-05-09T17:57:59.601461Z",
     "start_time": "2022-05-09T17:57:59.597119Z"
    }
   },
   "outputs": [
    {
     "name": "stdout",
     "output_type": "stream",
     "text": [
      "[[-4.5 -4.5]\n",
      " [-4.5 -4.5]]\n"
     ]
    }
   ],
   "source": [
    "print(np.subtract(x,y))"
   ]
  },
  {
   "cell_type": "code",
   "execution_count": 19,
   "id": "2d15dc6a",
   "metadata": {
    "ExecuteTime": {
     "end_time": "2022-05-09T17:58:03.828398Z",
     "start_time": "2022-05-09T17:58:03.824205Z"
    }
   },
   "outputs": [
    {
     "name": "stdout",
     "output_type": "stream",
     "text": [
      "[[ 5.5 13. ]\n",
      " [22.5 34. ]]\n"
     ]
    }
   ],
   "source": [
    "print(x*y)"
   ]
  },
  {
   "cell_type": "code",
   "execution_count": 20,
   "id": "30e04240",
   "metadata": {
    "ExecuteTime": {
     "end_time": "2022-05-09T17:58:09.994094Z",
     "start_time": "2022-05-09T17:58:09.989929Z"
    }
   },
   "outputs": [
    {
     "name": "stdout",
     "output_type": "stream",
     "text": [
      "[[ 5.5 13. ]\n",
      " [22.5 34. ]]\n"
     ]
    }
   ],
   "source": [
    "print(np.multiply(x,y))"
   ]
  },
  {
   "cell_type": "code",
   "execution_count": 21,
   "id": "a22ae7ea",
   "metadata": {
    "ExecuteTime": {
     "end_time": "2022-05-09T17:58:32.456012Z",
     "start_time": "2022-05-09T17:58:32.451923Z"
    }
   },
   "outputs": [
    {
     "name": "stdout",
     "output_type": "stream",
     "text": [
      "[[0.18181818 0.30769231]\n",
      " [0.4        0.47058824]]\n"
     ]
    }
   ],
   "source": [
    "print(x/y)"
   ]
  },
  {
   "cell_type": "code",
   "execution_count": 22,
   "id": "a9f23abc",
   "metadata": {
    "ExecuteTime": {
     "end_time": "2022-05-09T17:58:38.720050Z",
     "start_time": "2022-05-09T17:58:38.715816Z"
    }
   },
   "outputs": [
    {
     "name": "stdout",
     "output_type": "stream",
     "text": [
      "[[0.18181818 0.30769231]\n",
      " [0.4        0.47058824]]\n"
     ]
    }
   ],
   "source": [
    "print(np.divide(x,y))"
   ]
  },
  {
   "cell_type": "code",
   "execution_count": 23,
   "id": "4e442391",
   "metadata": {
    "ExecuteTime": {
     "end_time": "2022-05-09T17:58:55.697466Z",
     "start_time": "2022-05-09T17:58:55.693317Z"
    }
   },
   "outputs": [
    {
     "name": "stdout",
     "output_type": "stream",
     "text": [
      "[[1.         1.41421356]\n",
      " [1.73205081 2.        ]]\n"
     ]
    }
   ],
   "source": [
    "print(np.sqrt(x))"
   ]
  },
  {
   "cell_type": "code",
   "execution_count": 24,
   "id": "6f64669f",
   "metadata": {
    "ExecuteTime": {
     "end_time": "2022-05-09T17:59:09.814932Z",
     "start_time": "2022-05-09T17:59:09.811155Z"
    }
   },
   "outputs": [
    {
     "name": "stdout",
     "output_type": "stream",
     "text": [
      "[[1 2]\n",
      " [3 4]]\n"
     ]
    }
   ],
   "source": [
    "print(x)"
   ]
  },
  {
   "cell_type": "code",
   "execution_count": 25,
   "id": "ae296d67",
   "metadata": {
    "ExecuteTime": {
     "end_time": "2022-05-09T17:59:26.956385Z",
     "start_time": "2022-05-09T17:59:26.952243Z"
    }
   },
   "outputs": [
    {
     "name": "stdout",
     "output_type": "stream",
     "text": [
      "[1 2 3 4]\n"
     ]
    }
   ],
   "source": [
    "x = x.reshape(4,)\n",
    "print(x)"
   ]
  },
  {
   "cell_type": "code",
   "execution_count": 26,
   "id": "02c826b9",
   "metadata": {
    "ExecuteTime": {
     "end_time": "2022-05-09T17:59:33.326640Z",
     "start_time": "2022-05-09T17:59:33.322047Z"
    }
   },
   "outputs": [
    {
     "name": "stdout",
     "output_type": "stream",
     "text": [
      "[ 2.71828183  7.3890561  20.08553692 54.59815003]\n"
     ]
    }
   ],
   "source": [
    "print(np.exp(x))"
   ]
  },
  {
   "cell_type": "code",
   "execution_count": 29,
   "id": "d5b37bb4",
   "metadata": {
    "ExecuteTime": {
     "end_time": "2022-05-09T18:00:03.955607Z",
     "start_time": "2022-05-09T18:00:03.951428Z"
    }
   },
   "outputs": [
    {
     "name": "stdout",
     "output_type": "stream",
     "text": [
      "[1.         1.41421356 1.73205081 2.        ]\n"
     ]
    }
   ],
   "source": [
    "print(np.sqrt(x))"
   ]
  },
  {
   "cell_type": "code",
   "execution_count": 33,
   "id": "16f6c038",
   "metadata": {
    "ExecuteTime": {
     "end_time": "2022-05-09T18:01:01.103664Z",
     "start_time": "2022-05-09T18:01:01.099674Z"
    }
   },
   "outputs": [
    {
     "name": "stdout",
     "output_type": "stream",
     "text": [
      "[ 1  4  9 16]\n"
     ]
    }
   ],
   "source": [
    "print(np.power(x,2))"
   ]
  },
  {
   "cell_type": "code",
   "execution_count": 34,
   "id": "526c6823",
   "metadata": {
    "ExecuteTime": {
     "end_time": "2022-05-09T18:01:54.936356Z",
     "start_time": "2022-05-09T18:01:54.932312Z"
    }
   },
   "outputs": [
    {
     "name": "stdout",
     "output_type": "stream",
     "text": [
      "[[1 2]\n",
      " [3 4]]\n"
     ]
    }
   ],
   "source": [
    "x = x.reshape(2,2)\n",
    "print(x)"
   ]
  },
  {
   "cell_type": "code",
   "execution_count": 35,
   "id": "3828182d",
   "metadata": {
    "ExecuteTime": {
     "end_time": "2022-05-09T18:02:09.704686Z",
     "start_time": "2022-05-09T18:02:09.699742Z"
    }
   },
   "outputs": [
    {
     "name": "stdout",
     "output_type": "stream",
     "text": [
      "2.5\n"
     ]
    }
   ],
   "source": [
    "print(x.mean())"
   ]
  },
  {
   "cell_type": "code",
   "execution_count": 37,
   "id": "960e7211",
   "metadata": {
    "ExecuteTime": {
     "end_time": "2022-05-09T18:02:28.446522Z",
     "start_time": "2022-05-09T18:02:28.442063Z"
    }
   },
   "outputs": [
    {
     "name": "stdout",
     "output_type": "stream",
     "text": [
      "[2. 3.]\n"
     ]
    }
   ],
   "source": [
    "print(x.mean(axis=0))"
   ]
  },
  {
   "cell_type": "code",
   "execution_count": 38,
   "id": "c8fbaedc",
   "metadata": {
    "ExecuteTime": {
     "end_time": "2022-05-09T18:03:01.368427Z",
     "start_time": "2022-05-09T18:03:01.364252Z"
    }
   },
   "outputs": [
    {
     "name": "stdout",
     "output_type": "stream",
     "text": [
      "[1.5 3.5]\n"
     ]
    }
   ],
   "source": [
    "print(x.mean(axis=1))"
   ]
  },
  {
   "cell_type": "code",
   "execution_count": 40,
   "id": "67e2921f",
   "metadata": {
    "ExecuteTime": {
     "end_time": "2022-05-09T18:03:19.396343Z",
     "start_time": "2022-05-09T18:03:19.392856Z"
    }
   },
   "outputs": [
    {
     "name": "stdout",
     "output_type": "stream",
     "text": [
      "10\n"
     ]
    }
   ],
   "source": [
    "print(x.sum())"
   ]
  },
  {
   "cell_type": "code",
   "execution_count": 44,
   "id": "30cf7f40",
   "metadata": {
    "ExecuteTime": {
     "end_time": "2022-05-09T18:04:27.027934Z",
     "start_time": "2022-05-09T18:04:27.024168Z"
    },
    "scrolled": true
   },
   "outputs": [
    {
     "name": "stdout",
     "output_type": "stream",
     "text": [
      "[4 6]\n"
     ]
    }
   ],
   "source": [
    "print(x.sum(axis=0))"
   ]
  },
  {
   "cell_type": "code",
   "execution_count": 45,
   "id": "55009624",
   "metadata": {
    "ExecuteTime": {
     "end_time": "2022-05-09T18:04:47.757694Z",
     "start_time": "2022-05-09T18:04:47.753707Z"
    }
   },
   "outputs": [
    {
     "name": "stdout",
     "output_type": "stream",
     "text": [
      "[3 7]\n"
     ]
    }
   ],
   "source": [
    "print(x.sum(axis=1))"
   ]
  },
  {
   "cell_type": "code",
   "execution_count": 47,
   "id": "a4ec5f42",
   "metadata": {
    "ExecuteTime": {
     "end_time": "2022-05-09T18:05:18.637788Z",
     "start_time": "2022-05-09T18:05:18.632669Z"
    }
   },
   "outputs": [
    {
     "name": "stdout",
     "output_type": "stream",
     "text": [
      "1.118033988749895\n"
     ]
    }
   ],
   "source": [
    "print(x.std())"
   ]
  },
  {
   "cell_type": "code",
   "execution_count": 48,
   "id": "696329fc",
   "metadata": {
    "ExecuteTime": {
     "end_time": "2022-05-09T18:05:34.713224Z",
     "start_time": "2022-05-09T18:05:34.708800Z"
    }
   },
   "outputs": [
    {
     "name": "stdout",
     "output_type": "stream",
     "text": [
      "[1. 1.]\n"
     ]
    }
   ],
   "source": [
    "print(x.std(axis=0))"
   ]
  },
  {
   "cell_type": "code",
   "execution_count": 49,
   "id": "67ee6217",
   "metadata": {
    "ExecuteTime": {
     "end_time": "2022-05-09T18:05:40.153698Z",
     "start_time": "2022-05-09T18:05:40.148917Z"
    }
   },
   "outputs": [
    {
     "name": "stdout",
     "output_type": "stream",
     "text": [
      "[0.5 0.5]\n"
     ]
    }
   ],
   "source": [
    "print(x.std(axis=1))"
   ]
  },
  {
   "cell_type": "code",
   "execution_count": 51,
   "id": "4c69a803",
   "metadata": {
    "ExecuteTime": {
     "end_time": "2022-05-09T18:06:30.109907Z",
     "start_time": "2022-05-09T18:06:30.102098Z"
    }
   },
   "outputs": [
    {
     "name": "stdout",
     "output_type": "stream",
     "text": [
      "2.5\n"
     ]
    }
   ],
   "source": [
    "print(np.median(x))"
   ]
  },
  {
   "cell_type": "code",
   "execution_count": 52,
   "id": "c4d26e6a",
   "metadata": {
    "ExecuteTime": {
     "end_time": "2022-05-09T18:06:46.168616Z",
     "start_time": "2022-05-09T18:06:46.163892Z"
    }
   },
   "outputs": [
    {
     "name": "stdout",
     "output_type": "stream",
     "text": [
      "[2. 3.]\n"
     ]
    }
   ],
   "source": [
    "print(np.median(x,axis=0))"
   ]
  },
  {
   "cell_type": "code",
   "execution_count": 53,
   "id": "dd414e6e",
   "metadata": {
    "ExecuteTime": {
     "end_time": "2022-05-09T18:06:52.328607Z",
     "start_time": "2022-05-09T18:06:52.323886Z"
    }
   },
   "outputs": [
    {
     "name": "stdout",
     "output_type": "stream",
     "text": [
      "[1.5 3.5]\n"
     ]
    }
   ],
   "source": [
    "print(np.median(x,axis=1))"
   ]
  },
  {
   "cell_type": "code",
   "execution_count": 54,
   "id": "300d1b23",
   "metadata": {
    "ExecuteTime": {
     "end_time": "2022-05-09T18:06:58.682497Z",
     "start_time": "2022-05-09T18:06:58.678876Z"
    }
   },
   "outputs": [
    {
     "name": "stdout",
     "output_type": "stream",
     "text": [
      "4\n"
     ]
    }
   ],
   "source": [
    "print(np.max(x))"
   ]
  },
  {
   "cell_type": "code",
   "execution_count": 55,
   "id": "06883de9",
   "metadata": {
    "ExecuteTime": {
     "end_time": "2022-05-09T18:07:12.284692Z",
     "start_time": "2022-05-09T18:07:12.279941Z"
    }
   },
   "outputs": [
    {
     "name": "stdout",
     "output_type": "stream",
     "text": [
      "[3 4]\n"
     ]
    }
   ],
   "source": [
    "print(np.max(x,axis=0))"
   ]
  },
  {
   "cell_type": "code",
   "execution_count": 56,
   "id": "71f0f07e",
   "metadata": {
    "ExecuteTime": {
     "end_time": "2022-05-09T18:07:33.089064Z",
     "start_time": "2022-05-09T18:07:33.084909Z"
    }
   },
   "outputs": [
    {
     "name": "stdout",
     "output_type": "stream",
     "text": [
      "[2 4]\n"
     ]
    }
   ],
   "source": [
    "print(np.max(x,axis=1))"
   ]
  },
  {
   "cell_type": "code",
   "execution_count": 58,
   "id": "1c2d4c80",
   "metadata": {
    "ExecuteTime": {
     "end_time": "2022-05-09T18:07:55.715720Z",
     "start_time": "2022-05-09T18:07:55.712210Z"
    }
   },
   "outputs": [
    {
     "name": "stdout",
     "output_type": "stream",
     "text": [
      "1\n"
     ]
    }
   ],
   "source": [
    "print(x.min())"
   ]
  },
  {
   "cell_type": "code",
   "execution_count": 59,
   "id": "c705d8da",
   "metadata": {
    "ExecuteTime": {
     "end_time": "2022-05-09T18:08:02.616955Z",
     "start_time": "2022-05-09T18:08:02.613102Z"
    }
   },
   "outputs": [
    {
     "name": "stdout",
     "output_type": "stream",
     "text": [
      "[1 2]\n"
     ]
    }
   ],
   "source": [
    "print(x.min(axis=0))"
   ]
  },
  {
   "cell_type": "code",
   "execution_count": 60,
   "id": "f7707728",
   "metadata": {
    "ExecuteTime": {
     "end_time": "2022-05-09T18:08:12.073315Z",
     "start_time": "2022-05-09T18:08:12.069520Z"
    }
   },
   "outputs": [
    {
     "name": "stdout",
     "output_type": "stream",
     "text": [
      "[1 3]\n"
     ]
    }
   ],
   "source": [
    "print(x.min(axis=1))"
   ]
  },
  {
   "cell_type": "code",
   "execution_count": 61,
   "id": "d67bfa8a",
   "metadata": {
    "ExecuteTime": {
     "end_time": "2022-05-09T18:11:16.268278Z",
     "start_time": "2022-05-09T18:11:16.264950Z"
    }
   },
   "outputs": [
    {
     "name": "stdout",
     "output_type": "stream",
     "text": [
      "[[1 2]\n",
      " [3 4]]\n"
     ]
    }
   ],
   "source": [
    "print(x)"
   ]
  },
  {
   "cell_type": "code",
   "execution_count": 62,
   "id": "412e0a84",
   "metadata": {
    "ExecuteTime": {
     "end_time": "2022-05-09T18:11:23.800011Z",
     "start_time": "2022-05-09T18:11:23.796205Z"
    }
   },
   "outputs": [
    {
     "name": "stdout",
     "output_type": "stream",
     "text": [
      "[[ 3  6]\n",
      " [ 9 12]]\n"
     ]
    }
   ],
   "source": [
    "print(3*x)"
   ]
  },
  {
   "cell_type": "code",
   "execution_count": 63,
   "id": "4956adc0",
   "metadata": {
    "ExecuteTime": {
     "end_time": "2022-05-09T18:11:31.758221Z",
     "start_time": "2022-05-09T18:11:31.753504Z"
    }
   },
   "outputs": [
    {
     "name": "stdout",
     "output_type": "stream",
     "text": [
      "[[4 5]\n",
      " [6 7]]\n"
     ]
    }
   ],
   "source": [
    "print(x+3)"
   ]
  },
  {
   "cell_type": "code",
   "execution_count": 64,
   "id": "a54f216e",
   "metadata": {
    "ExecuteTime": {
     "end_time": "2022-05-09T18:11:34.669167Z",
     "start_time": "2022-05-09T18:11:34.665293Z"
    }
   },
   "outputs": [
    {
     "name": "stdout",
     "output_type": "stream",
     "text": [
      "[[-2 -1]\n",
      " [ 0  1]]\n"
     ]
    }
   ],
   "source": [
    "print(x-3)"
   ]
  },
  {
   "cell_type": "code",
   "execution_count": 65,
   "id": "1cf84818",
   "metadata": {
    "ExecuteTime": {
     "end_time": "2022-05-09T18:11:38.196470Z",
     "start_time": "2022-05-09T18:11:38.191851Z"
    }
   },
   "outputs": [
    {
     "name": "stdout",
     "output_type": "stream",
     "text": [
      "[[0.33333333 0.66666667]\n",
      " [1.         1.33333333]]\n"
     ]
    }
   ],
   "source": [
    "print(x/3)"
   ]
  },
  {
   "cell_type": "code",
   "execution_count": 66,
   "id": "0412bed1",
   "metadata": {
    "ExecuteTime": {
     "end_time": "2022-05-09T18:12:40.726755Z",
     "start_time": "2022-05-09T18:12:40.721195Z"
    }
   },
   "outputs": [
    {
     "name": "stdout",
     "output_type": "stream",
     "text": [
      "[1 2 3] \n",
      "\n",
      "[[1 2 3]\n",
      " [4 5 6]\n",
      " [7 8 9]]\n"
     ]
    }
   ],
   "source": [
    "x = np.array([1,2,3])\n",
    "y = np.arange(1,10).reshape(3,3)\n",
    "print(x,'\\n')\n",
    "print(y)"
   ]
  },
  {
   "cell_type": "code",
   "execution_count": 67,
   "id": "2012df3a",
   "metadata": {
    "ExecuteTime": {
     "end_time": "2022-05-09T18:13:11.027534Z",
     "start_time": "2022-05-09T18:13:11.021330Z"
    }
   },
   "outputs": [
    {
     "name": "stdout",
     "output_type": "stream",
     "text": [
      "[[1]\n",
      " [2]\n",
      " [3]]\n"
     ]
    }
   ],
   "source": [
    "z = np.array([1,2,3]).reshape(3,1)\n",
    "print(z)"
   ]
  },
  {
   "cell_type": "code",
   "execution_count": 68,
   "id": "01ceb8c7",
   "metadata": {
    "ExecuteTime": {
     "end_time": "2022-05-09T18:13:26.737032Z",
     "start_time": "2022-05-09T18:13:26.733321Z"
    }
   },
   "outputs": [
    {
     "name": "stdout",
     "output_type": "stream",
     "text": [
      "[[ 2  4  6]\n",
      " [ 5  7  9]\n",
      " [ 8 10 12]]\n"
     ]
    }
   ],
   "source": [
    "print(x+y)"
   ]
  },
  {
   "cell_type": "code",
   "execution_count": 69,
   "id": "bf54b254",
   "metadata": {
    "ExecuteTime": {
     "end_time": "2022-05-09T18:13:44.244731Z",
     "start_time": "2022-05-09T18:13:44.241023Z"
    }
   },
   "outputs": [
    {
     "name": "stdout",
     "output_type": "stream",
     "text": [
      "[[ 2  3  4]\n",
      " [ 6  7  8]\n",
      " [10 11 12]]\n"
     ]
    }
   ],
   "source": [
    "print(y+z)"
   ]
  },
  {
   "cell_type": "code",
   "execution_count": 70,
   "id": "bb625a9d",
   "metadata": {
    "ExecuteTime": {
     "end_time": "2022-05-09T18:39:47.648386Z",
     "start_time": "2022-05-09T18:39:47.635857Z"
    }
   },
   "outputs": [
    {
     "name": "stdout",
     "output_type": "stream",
     "text": [
      "[[1. 1. 1. 1.]\n",
      " [1. 1. 1. 1.]\n",
      " [1. 1. 1. 1.]\n",
      " [1. 1. 1. 1.]]\n"
     ]
    }
   ],
   "source": [
    "X = np.ones((4,4))\n",
    "print(X)"
   ]
  },
  {
   "cell_type": "code",
   "execution_count": 71,
   "id": "8cfd485e",
   "metadata": {
    "ExecuteTime": {
     "end_time": "2022-05-09T18:39:53.070126Z",
     "start_time": "2022-05-09T18:39:53.065602Z"
    }
   },
   "outputs": [
    {
     "name": "stdout",
     "output_type": "stream",
     "text": [
      "[[1. 2. 3. 4.]\n",
      " [1. 2. 3. 4.]\n",
      " [1. 2. 3. 4.]\n",
      " [1. 2. 3. 4.]]\n"
     ]
    }
   ],
   "source": [
    "print(X*np.arange(1,5))"
   ]
  },
  {
   "cell_type": "code",
   "execution_count": 73,
   "id": "7fbcff0b",
   "metadata": {
    "ExecuteTime": {
     "end_time": "2022-05-09T18:46:20.176911Z",
     "start_time": "2022-05-09T18:46:20.171372Z"
    }
   },
   "outputs": [
    {
     "name": "stdout",
     "output_type": "stream",
     "text": [
      "[1 2 3 4]\n"
     ]
    }
   ],
   "source": [
    "print(np.arange(1,5))"
   ]
  },
  {
   "cell_type": "code",
   "execution_count": 74,
   "id": "6c60deca",
   "metadata": {
    "ExecuteTime": {
     "end_time": "2022-05-09T18:46:26.367759Z",
     "start_time": "2022-05-09T18:46:26.363669Z"
    }
   },
   "outputs": [
    {
     "name": "stdout",
     "output_type": "stream",
     "text": [
      "[[1. 1. 1. 1.]\n",
      " [1. 1. 1. 1.]\n",
      " [1. 1. 1. 1.]\n",
      " [1. 1. 1. 1.]]\n"
     ]
    }
   ],
   "source": [
    "print(X)"
   ]
  },
  {
   "cell_type": "code",
   "execution_count": 77,
   "id": "6c43fb78",
   "metadata": {
    "ExecuteTime": {
     "end_time": "2022-05-09T18:49:06.191565Z",
     "start_time": "2022-05-09T18:49:06.186975Z"
    }
   },
   "outputs": [
    {
     "name": "stdout",
     "output_type": "stream",
     "text": [
      "[[0. 1. 2. 3.]\n",
      " [0. 1. 2. 3.]\n",
      " [0. 1. 2. 3.]\n",
      " [0. 1. 2. 3.]]\n"
     ]
    }
   ],
   "source": [
    "print(X*[0,1,2,3])"
   ]
  },
  {
   "cell_type": "code",
   "execution_count": null,
   "id": "3fc66f04",
   "metadata": {},
   "outputs": [],
   "source": []
  }
 ],
 "metadata": {
  "kernelspec": {
   "display_name": "Python 3",
   "language": "python",
   "name": "python3"
  },
  "language_info": {
   "codemirror_mode": {
    "name": "ipython",
    "version": 3
   },
   "file_extension": ".py",
   "mimetype": "text/x-python",
   "name": "python",
   "nbconvert_exporter": "python",
   "pygments_lexer": "ipython3",
   "version": "3.8.8"
  },
  "toc": {
   "base_numbering": 1,
   "nav_menu": {},
   "number_sections": true,
   "sideBar": true,
   "skip_h1_title": false,
   "title_cell": "Table of Contents",
   "title_sidebar": "Contents",
   "toc_cell": false,
   "toc_position": {},
   "toc_section_display": true,
   "toc_window_display": false
  },
  "varInspector": {
   "cols": {
    "lenName": 16,
    "lenType": 16,
    "lenVar": 40
   },
   "kernels_config": {
    "python": {
     "delete_cmd_postfix": "",
     "delete_cmd_prefix": "del ",
     "library": "var_list.py",
     "varRefreshCmd": "print(var_dic_list())"
    },
    "r": {
     "delete_cmd_postfix": ") ",
     "delete_cmd_prefix": "rm(",
     "library": "var_list.r",
     "varRefreshCmd": "cat(var_dic_list()) "
    }
   },
   "types_to_exclude": [
    "module",
    "function",
    "builtin_function_or_method",
    "instance",
    "_Feature"
   ],
   "window_display": false
  }
 },
 "nbformat": 4,
 "nbformat_minor": 5
}
