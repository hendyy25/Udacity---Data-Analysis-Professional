{
 "cells": [
  {
   "cell_type": "code",
   "execution_count": 1,
   "id": "bb153651",
   "metadata": {
    "ExecuteTime": {
     "end_time": "2022-05-07T17:58:41.380488Z",
     "start_time": "2022-05-07T17:58:41.374934Z"
    }
   },
   "outputs": [],
   "source": [
    "import numpy as np"
   ]
  },
  {
   "cell_type": "code",
   "execution_count": 2,
   "id": "7b81b575",
   "metadata": {
    "ExecuteTime": {
     "end_time": "2022-05-07T17:58:50.596119Z",
     "start_time": "2022-05-07T17:58:50.579115Z"
    }
   },
   "outputs": [
    {
     "data": {
      "text/plain": [
       "array([[0., 0., 0., 0.],\n",
       "       [0., 0., 0., 0.],\n",
       "       [0., 0., 0., 0.]])"
      ]
     },
     "execution_count": 2,
     "metadata": {},
     "output_type": "execute_result"
    }
   ],
   "source": [
    "x = np.zeros((3,4))\n",
    "x"
   ]
  },
  {
   "cell_type": "code",
   "execution_count": 4,
   "id": "2b3f9a36",
   "metadata": {
    "ExecuteTime": {
     "end_time": "2022-05-07T17:59:11.225041Z",
     "start_time": "2022-05-07T17:59:11.220527Z"
    }
   },
   "outputs": [
    {
     "name": "stdout",
     "output_type": "stream",
     "text": [
      "[[0. 0. 0. 0.]\n",
      " [0. 0. 0. 0.]\n",
      " [0. 0. 0. 0.]]\n",
      "<class 'numpy.ndarray'>\n",
      "float64\n"
     ]
    }
   ],
   "source": [
    "print(x)\n",
    "print(type(x))\n",
    "print(x.dtype)"
   ]
  },
  {
   "cell_type": "code",
   "execution_count": 7,
   "id": "2323d6a7",
   "metadata": {
    "ExecuteTime": {
     "end_time": "2022-05-07T18:00:51.125676Z",
     "start_time": "2022-05-07T18:00:51.119663Z"
    }
   },
   "outputs": [
    {
     "name": "stdout",
     "output_type": "stream",
     "text": [
      "[[5. 5. 5.]\n",
      " [5. 5. 5.]]\n",
      "\n",
      "(2, 3)\n",
      "<class 'numpy.ndarray'>\n",
      "float64\n"
     ]
    }
   ],
   "source": [
    "x = np.full((2,3),5)\n",
    "\n",
    "print(x)\n",
    "print()\n",
    "print(x.shape)\n",
    "print(type(x))\n",
    "print(x.dtype)"
   ]
  },
  {
   "cell_type": "code",
   "execution_count": 8,
   "id": "e80ace3e",
   "metadata": {
    "ExecuteTime": {
     "end_time": "2022-05-07T18:02:00.384127Z",
     "start_time": "2022-05-07T18:02:00.377743Z"
    }
   },
   "outputs": [
    {
     "name": "stdout",
     "output_type": "stream",
     "text": [
      "[[1. 0. 0. 0. 0.]\n",
      " [0. 1. 0. 0. 0.]\n",
      " [0. 0. 1. 0. 0.]\n",
      " [0. 0. 0. 1. 0.]\n",
      " [0. 0. 0. 0. 1.]]\n",
      "(5, 5)\n",
      "<class 'numpy.ndarray'>\n",
      "float64\n"
     ]
    }
   ],
   "source": [
    "x = np.eye(5) # numpy array of an identity matrix\n",
    "print(x)\n",
    "\n",
    "print(x.shape)\n",
    "print(type(x))\n",
    "print(x.dtype)"
   ]
  },
  {
   "cell_type": "code",
   "execution_count": 10,
   "id": "4586a088",
   "metadata": {
    "ExecuteTime": {
     "end_time": "2022-05-07T18:02:52.839741Z",
     "start_time": "2022-05-07T18:02:52.834013Z"
    }
   },
   "outputs": [
    {
     "name": "stdout",
     "output_type": "stream",
     "text": [
      "[[10  0  0  0]\n",
      " [ 0 20  0  0]\n",
      " [ 0  0 30  0]\n",
      " [ 0  0  0 50]] \n",
      "\n",
      "(4, 4)\n",
      "<class 'numpy.ndarray'>\n",
      "int64\n"
     ]
    }
   ],
   "source": [
    "# create a diagonal matrix \n",
    "x = np.diag([10,20,30,50])\n",
    "\n",
    "print(x,'\\n')\n",
    "print(x.shape)\n",
    "print(type(x))\n",
    "print(x.dtype)"
   ]
  },
  {
   "cell_type": "code",
   "execution_count": 11,
   "id": "17982835",
   "metadata": {
    "ExecuteTime": {
     "end_time": "2022-05-07T18:03:54.607714Z",
     "start_time": "2022-05-07T18:03:54.602531Z"
    }
   },
   "outputs": [
    {
     "name": "stdout",
     "output_type": "stream",
     "text": [
      "[0 1 2 3 4 5 6 7 8 9]\n",
      "(10,)\n",
      "<class 'numpy.ndarray'>\n",
      "int64\n"
     ]
    }
   ],
   "source": [
    "x = np.arange(10)\n",
    "\n",
    "print(x)\n",
    "print(x.shape)\n",
    "print(type(x))\n",
    "print(x.dtype)"
   ]
  },
  {
   "cell_type": "code",
   "execution_count": 12,
   "id": "3e492c00",
   "metadata": {
    "ExecuteTime": {
     "end_time": "2022-05-07T18:04:18.782465Z",
     "start_time": "2022-05-07T18:04:18.776256Z"
    }
   },
   "outputs": [
    {
     "data": {
      "text/plain": [
       "array([4, 5, 6, 7, 8, 9])"
      ]
     },
     "execution_count": 12,
     "metadata": {},
     "output_type": "execute_result"
    }
   ],
   "source": [
    "x = np.arange(4,10)\n",
    "x"
   ]
  },
  {
   "cell_type": "code",
   "execution_count": 13,
   "id": "95ff0539",
   "metadata": {
    "ExecuteTime": {
     "end_time": "2022-05-07T18:04:36.633410Z",
     "start_time": "2022-05-07T18:04:36.627046Z"
    }
   },
   "outputs": [
    {
     "data": {
      "text/plain": [
       "array([ 1,  4,  7, 10, 13])"
      ]
     },
     "execution_count": 13,
     "metadata": {},
     "output_type": "execute_result"
    }
   ],
   "source": [
    "x = np.arange(1,14,3)\n",
    "x"
   ]
  },
  {
   "cell_type": "code",
   "execution_count": 15,
   "id": "716dc405",
   "metadata": {
    "ExecuteTime": {
     "end_time": "2022-05-07T18:05:59.107179Z",
     "start_time": "2022-05-07T18:05:59.101950Z"
    }
   },
   "outputs": [
    {
     "name": "stdout",
     "output_type": "stream",
     "text": [
      "[ 0.          2.77777778  5.55555556  8.33333333 11.11111111 13.88888889\n",
      " 16.66666667 19.44444444 22.22222222 25.        ]\n"
     ]
    }
   ],
   "source": [
    "x = np.linspace(0,25,10) # 25 is inclusive here. there are other arugments in linspace\n",
    "print(x)"
   ]
  },
  {
   "cell_type": "code",
   "execution_count": 16,
   "id": "5ed5f781",
   "metadata": {
    "ExecuteTime": {
     "end_time": "2022-05-07T18:10:38.796143Z",
     "start_time": "2022-05-07T18:10:38.789149Z"
    }
   },
   "outputs": [
    {
     "name": "stdout",
     "output_type": "stream",
     "text": [
      "original x [ 0  1  2  3  4  5  6  7  8  9 10 11 12 13 14 15 16 17 18 19]\n",
      "reshaped x [[ 0  1  2  3  4]\n",
      " [ 5  6  7  8  9]\n",
      " [10 11 12 13 14]\n",
      " [15 16 17 18 19]]\n",
      "(4, 5)\n",
      "<class 'numpy.ndarray'>\n",
      "int64\n"
     ]
    }
   ],
   "source": [
    "x = np.arange(20)\n",
    "\n",
    "print('original x', x)\n",
    "\n",
    "x = np.reshape(x,(4,5))\n",
    "print('reshaped x',x)\n",
    "\n",
    "print(x.shape)\n",
    "print(type(x))\n",
    "print(x.dtype)"
   ]
  },
  {
   "cell_type": "code",
   "execution_count": 17,
   "id": "f4dda9db",
   "metadata": {
    "ExecuteTime": {
     "end_time": "2022-05-07T18:12:35.431769Z",
     "start_time": "2022-05-07T18:12:35.427564Z"
    }
   },
   "outputs": [
    {
     "name": "stdout",
     "output_type": "stream",
     "text": [
      "[[ 0  1  2  3  4]\n",
      " [ 5  6  7  8  9]\n",
      " [10 11 12 13 14]\n",
      " [15 16 17 18 19]]\n"
     ]
    }
   ],
   "source": [
    "# numpy arrays are like numpy attributes: both can be called using the \".\"\n",
    "x = np.arange(20).reshape(4,5) \n",
    "print(x)"
   ]
  },
  {
   "cell_type": "code",
   "execution_count": 20,
   "id": "7305156f",
   "metadata": {
    "ExecuteTime": {
     "end_time": "2022-05-07T18:29:44.765320Z",
     "start_time": "2022-05-07T18:29:44.759874Z"
    }
   },
   "outputs": [
    {
     "name": "stdout",
     "output_type": "stream",
     "text": [
      "[[ 0.  5.]\n",
      " [10. 15.]\n",
      " [20. 25.]\n",
      " [30. 35.]\n",
      " [40. 45.]]\n"
     ]
    }
   ],
   "source": [
    "x = np.linspace(0,50,10,endpoint=False).reshape(5,2)\n",
    "\n",
    "print(x)"
   ]
  },
  {
   "cell_type": "code",
   "execution_count": 21,
   "id": "7f991543",
   "metadata": {
    "ExecuteTime": {
     "end_time": "2022-05-07T18:31:24.740419Z",
     "start_time": "2022-05-07T18:31:24.734485Z"
    }
   },
   "outputs": [
    {
     "name": "stdout",
     "output_type": "stream",
     "text": [
      "[[0.22058183 0.56536229 0.99878656]\n",
      " [0.65805444 0.21077864 0.61213907]\n",
      " [0.16292012 0.88184285 0.74574613]]\n"
     ]
    }
   ],
   "source": [
    "# 3x3 numpy random array, elements belong to (0.0,1.0]\n",
    "x = np.random.random((3,3))\n",
    "print(x)"
   ]
  },
  {
   "cell_type": "code",
   "execution_count": 32,
   "id": "49ad864c",
   "metadata": {
    "ExecuteTime": {
     "end_time": "2022-05-07T18:32:55.832695Z",
     "start_time": "2022-05-07T18:32:55.827916Z"
    }
   },
   "outputs": [
    {
     "name": "stdout",
     "output_type": "stream",
     "text": [
      "[[ 7 14]\n",
      " [ 6  6]\n",
      " [ 4  5]]\n"
     ]
    }
   ],
   "source": [
    "x = np.random.randint(4,15,size=(3,2))\n",
    "print(x)"
   ]
  },
  {
   "cell_type": "code",
   "execution_count": 47,
   "id": "708a50ac",
   "metadata": {
    "ExecuteTime": {
     "end_time": "2022-05-07T18:40:18.392004Z",
     "start_time": "2022-05-07T18:40:18.385151Z"
    }
   },
   "outputs": [
    {
     "name": "stdout",
     "output_type": "stream",
     "text": [
      "[[ 0.08752891 -0.51416446 -0.01153212  0.17928685  0.00756673]\n",
      " [ 0.79177427  1.48869499 -1.21830071  0.85164042 -0.53767476]\n",
      " [ 1.51589081  0.77328445  1.25559824  0.34158211 -0.01570917]\n",
      " [-0.21150829  0.92639404 -0.99254501 -0.93134591 -2.05917832]\n",
      " [-0.25236415  0.12207104  1.61347146  0.30692683  0.78613064]]\n"
     ]
    }
   ],
   "source": [
    "# create a numpy array of size 5x5, mean = 0, stdv = 1 (normal distribution)\n",
    "x = np.random.normal(0,1,size=(5,5))\n",
    "print(x)"
   ]
  },
  {
   "cell_type": "code",
   "execution_count": 48,
   "id": "ad4fdf29",
   "metadata": {
    "ExecuteTime": {
     "end_time": "2022-05-07T18:40:19.916370Z",
     "start_time": "2022-05-07T18:40:19.909490Z"
    }
   },
   "outputs": [
    {
     "name": "stdout",
     "output_type": "stream",
     "text": [
      "(5, 5)\n",
      "<class 'numpy.ndarray'>\n",
      "float64\n",
      "0.17214075471712392\n",
      "1.6134714583317507\n",
      "-2.059178321214203\n",
      "10\n",
      "[[ True False False  True  True]\n",
      " [ True  True False  True False]\n",
      " [ True  True  True  True False]\n",
      " [False  True False False False]\n",
      " [False  True  True  True  True]]\n"
     ]
    }
   ],
   "source": [
    "print(x.shape)\n",
    "print(type(x))\n",
    "print(x.dtype)\n",
    "print(x.mean())\n",
    "print(x.max()) # to find the min element\n",
    "print(x.min()) # to find the max element\n",
    "print((x<0).sum()) # to find the sum of the negative elements\n",
    "print((x>0))"
   ]
  },
  {
   "cell_type": "code",
   "execution_count": 49,
   "id": "82c5e3a0",
   "metadata": {
    "ExecuteTime": {
     "end_time": "2022-05-07T18:40:35.175231Z",
     "start_time": "2022-05-07T18:40:35.170260Z"
    }
   },
   "outputs": [
    {
     "data": {
      "text/plain": [
       "array([[False,  True,  True, False, False],\n",
       "       [False, False,  True, False,  True],\n",
       "       [False, False, False, False,  True],\n",
       "       [ True, False,  True,  True,  True],\n",
       "       [ True, False, False, False, False]])"
      ]
     },
     "execution_count": 49,
     "metadata": {},
     "output_type": "execute_result"
    }
   ],
   "source": [
    "(x<0)"
   ]
  },
  {
   "cell_type": "code",
   "execution_count": 53,
   "id": "179ea1f9",
   "metadata": {
    "ExecuteTime": {
     "end_time": "2022-05-07T18:41:20.630258Z",
     "start_time": "2022-05-07T18:41:20.626107Z"
    }
   },
   "outputs": [
    {
     "name": "stdout",
     "output_type": "stream",
     "text": [
      "[[False  True  True False False]\n",
      " [False False  True False  True]\n",
      " [False False False False  True]\n",
      " [ True False  True  True  True]\n",
      " [ True False False False False]]\n"
     ]
    }
   ],
   "source": [
    "print((x<0))"
   ]
  },
  {
   "cell_type": "code",
   "execution_count": 56,
   "id": "f188fbe2",
   "metadata": {
    "ExecuteTime": {
     "end_time": "2022-05-07T18:42:10.728544Z",
     "start_time": "2022-05-07T18:42:10.722364Z"
    }
   },
   "outputs": [
    {
     "data": {
      "text/plain": [
       "array([2, 1, 3, 1, 3])"
      ]
     },
     "execution_count": 56,
     "metadata": {},
     "output_type": "execute_result"
    }
   ],
   "source": [
    "sum(x<0) # how many negative elements are there per column"
   ]
  },
  {
   "cell_type": "code",
   "execution_count": null,
   "id": "f61f96bf",
   "metadata": {},
   "outputs": [],
   "source": []
  }
 ],
 "metadata": {
  "kernelspec": {
   "display_name": "Python 3",
   "language": "python",
   "name": "python3"
  },
  "language_info": {
   "codemirror_mode": {
    "name": "ipython",
    "version": 3
   },
   "file_extension": ".py",
   "mimetype": "text/x-python",
   "name": "python",
   "nbconvert_exporter": "python",
   "pygments_lexer": "ipython3",
   "version": "3.8.8"
  },
  "toc": {
   "base_numbering": 1,
   "nav_menu": {},
   "number_sections": true,
   "sideBar": true,
   "skip_h1_title": false,
   "title_cell": "Table of Contents",
   "title_sidebar": "Contents",
   "toc_cell": false,
   "toc_position": {},
   "toc_section_display": true,
   "toc_window_display": false
  },
  "varInspector": {
   "cols": {
    "lenName": 16,
    "lenType": 16,
    "lenVar": 40
   },
   "kernels_config": {
    "python": {
     "delete_cmd_postfix": "",
     "delete_cmd_prefix": "del ",
     "library": "var_list.py",
     "varRefreshCmd": "print(var_dic_list())"
    },
    "r": {
     "delete_cmd_postfix": ") ",
     "delete_cmd_prefix": "rm(",
     "library": "var_list.r",
     "varRefreshCmd": "cat(var_dic_list()) "
    }
   },
   "types_to_exclude": [
    "module",
    "function",
    "builtin_function_or_method",
    "instance",
    "_Feature"
   ],
   "window_display": false
  }
 },
 "nbformat": 4,
 "nbformat_minor": 5
}
