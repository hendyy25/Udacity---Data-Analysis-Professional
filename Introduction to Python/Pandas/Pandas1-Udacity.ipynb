{
 "cells": [
  {
   "cell_type": "code",
   "execution_count": 1,
   "id": "33a98f4f",
   "metadata": {
    "ExecuteTime": {
     "end_time": "2022-05-09T18:55:41.727395Z",
     "start_time": "2022-05-09T18:55:41.441257Z"
    }
   },
   "outputs": [],
   "source": [
    "import pandas as pd"
   ]
  },
  {
   "cell_type": "code",
   "execution_count": 4,
   "id": "22decdc5",
   "metadata": {
    "ExecuteTime": {
     "end_time": "2022-05-09T18:56:58.712311Z",
     "start_time": "2022-05-09T18:56:58.699360Z"
    }
   },
   "outputs": [
    {
     "data": {
      "text/plain": [
       "eggs       30\n",
       "apples      6\n",
       "milk      Yes\n",
       "bread      No\n",
       "dtype: object"
      ]
     },
     "execution_count": 4,
     "metadata": {},
     "output_type": "execute_result"
    }
   ],
   "source": [
    "groceries = pd.Series(data = [30,6,'Yes','No'], index = ['eggs','apples','milk','bread'])\n",
    "groceries"
   ]
  },
  {
   "cell_type": "code",
   "execution_count": 7,
   "id": "f69c2b34",
   "metadata": {
    "ExecuteTime": {
     "end_time": "2022-05-09T18:58:27.474887Z",
     "start_time": "2022-05-09T18:58:27.470853Z"
    }
   },
   "outputs": [
    {
     "name": "stdout",
     "output_type": "stream",
     "text": [
      "(4,)\n",
      "1\n",
      "4\n"
     ]
    }
   ],
   "source": [
    "print(groceries.shape)\n",
    "print(groceries.ndim)\n",
    "print(groceries.size)"
   ]
  },
  {
   "cell_type": "code",
   "execution_count": 13,
   "id": "1c86e220",
   "metadata": {
    "ExecuteTime": {
     "end_time": "2022-05-09T18:59:37.657866Z",
     "start_time": "2022-05-09T18:59:37.654083Z"
    }
   },
   "outputs": [
    {
     "name": "stdout",
     "output_type": "stream",
     "text": [
      "[30 6 'Yes' 'No']\n"
     ]
    }
   ],
   "source": [
    "print(groceries.values)"
   ]
  },
  {
   "cell_type": "code",
   "execution_count": 10,
   "id": "3bebf4dc",
   "metadata": {
    "ExecuteTime": {
     "end_time": "2022-05-09T18:59:11.247325Z",
     "start_time": "2022-05-09T18:59:11.243639Z"
    }
   },
   "outputs": [
    {
     "name": "stdout",
     "output_type": "stream",
     "text": [
      "<class 'numpy.ndarray'>\n"
     ]
    }
   ],
   "source": [
    "print(type(groceries.values))"
   ]
  },
  {
   "cell_type": "code",
   "execution_count": 12,
   "id": "6e4b13f3",
   "metadata": {
    "ExecuteTime": {
     "end_time": "2022-05-09T18:59:23.458999Z",
     "start_time": "2022-05-09T18:59:23.455291Z"
    }
   },
   "outputs": [
    {
     "name": "stdout",
     "output_type": "stream",
     "text": [
      "Index(['eggs', 'apples', 'milk', 'bread'], dtype='object')\n"
     ]
    }
   ],
   "source": [
    "print(groceries.index)"
   ]
  },
  {
   "cell_type": "code",
   "execution_count": 14,
   "id": "8bcf70d1",
   "metadata": {
    "ExecuteTime": {
     "end_time": "2022-05-09T19:00:02.353631Z",
     "start_time": "2022-05-09T19:00:02.348346Z"
    }
   },
   "outputs": [
    {
     "data": {
      "text/plain": [
       "False"
      ]
     },
     "execution_count": 14,
     "metadata": {},
     "output_type": "execute_result"
    }
   ],
   "source": [
    "'banana' in groceries.index"
   ]
  },
  {
   "cell_type": "code",
   "execution_count": 15,
   "id": "f5235d26",
   "metadata": {
    "ExecuteTime": {
     "end_time": "2022-05-09T19:00:12.189679Z",
     "start_time": "2022-05-09T19:00:12.184300Z"
    }
   },
   "outputs": [
    {
     "data": {
      "text/plain": [
       "True"
      ]
     },
     "execution_count": 15,
     "metadata": {},
     "output_type": "execute_result"
    }
   ],
   "source": [
    "'bread' in groceries.index"
   ]
  },
  {
   "cell_type": "code",
   "execution_count": 19,
   "id": "ab3a6a4e",
   "metadata": {
    "ExecuteTime": {
     "end_time": "2022-05-09T19:06:13.871200Z",
     "start_time": "2022-05-09T19:06:13.864624Z"
    }
   },
   "outputs": [
    {
     "name": "stdout",
     "output_type": "stream",
     "text": [
      "eggs       30\n",
      "apples      6\n",
      "milk      Yes\n",
      "bread      No\n",
      "dtype: object\n"
     ]
    },
    {
     "data": {
      "text/plain": [
       "30"
      ]
     },
     "execution_count": 19,
     "metadata": {},
     "output_type": "execute_result"
    }
   ],
   "source": [
    "# accessing, use either a single index label, or numerical indices\n",
    "print(groceries)\n",
    "groceries['eggs']"
   ]
  },
  {
   "cell_type": "code",
   "execution_count": 20,
   "id": "0fbea72f",
   "metadata": {
    "ExecuteTime": {
     "end_time": "2022-05-09T19:06:34.283148Z",
     "start_time": "2022-05-09T19:06:34.270577Z"
    }
   },
   "outputs": [
    {
     "data": {
      "text/plain": [
       "milk    Yes\n",
       "eggs     30\n",
       "dtype: object"
      ]
     },
     "execution_count": 20,
     "metadata": {},
     "output_type": "execute_result"
    }
   ],
   "source": [
    "groceries[['milk','eggs']] # note the [[]]"
   ]
  },
  {
   "cell_type": "code",
   "execution_count": 24,
   "id": "1172e979",
   "metadata": {
    "ExecuteTime": {
     "end_time": "2022-05-09T19:07:17.802769Z",
     "start_time": "2022-05-09T19:07:17.792291Z"
    }
   },
   "outputs": [
    {
     "data": {
      "text/plain": [
       "eggs      30\n",
       "apples     6\n",
       "dtype: object"
      ]
     },
     "execution_count": 24,
     "metadata": {},
     "output_type": "execute_result"
    }
   ],
   "source": [
    "groceries.loc[['eggs','apples']]"
   ]
  },
  {
   "cell_type": "code",
   "execution_count": 25,
   "id": "b955a271",
   "metadata": {
    "ExecuteTime": {
     "end_time": "2022-05-09T19:07:48.761864Z",
     "start_time": "2022-05-09T19:07:48.753533Z"
    }
   },
   "outputs": [
    {
     "data": {
      "text/plain": [
       "eggs      30\n",
       "apples     6\n",
       "dtype: object"
      ]
     },
     "execution_count": 25,
     "metadata": {},
     "output_type": "execute_result"
    }
   ],
   "source": [
    "groceries.iloc[[0,1]]"
   ]
  },
  {
   "cell_type": "code",
   "execution_count": 26,
   "id": "0ffa1fbe",
   "metadata": {
    "ExecuteTime": {
     "end_time": "2022-05-09T19:07:58.428098Z",
     "start_time": "2022-05-09T19:07:58.423222Z"
    }
   },
   "outputs": [
    {
     "data": {
      "text/plain": [
       "'No'"
      ]
     },
     "execution_count": 26,
     "metadata": {},
     "output_type": "execute_result"
    }
   ],
   "source": [
    "groceries[-1]"
   ]
  },
  {
   "cell_type": "code",
   "execution_count": 27,
   "id": "7f79bba2",
   "metadata": {
    "ExecuteTime": {
     "end_time": "2022-05-09T19:08:04.766850Z",
     "start_time": "2022-05-09T19:08:04.761909Z"
    }
   },
   "outputs": [
    {
     "data": {
      "text/plain": [
       "'No'"
      ]
     },
     "execution_count": 27,
     "metadata": {},
     "output_type": "execute_result"
    }
   ],
   "source": [
    "groceries.iloc[-1]"
   ]
  },
  {
   "cell_type": "code",
   "execution_count": 28,
   "id": "e8cfad1d",
   "metadata": {
    "ExecuteTime": {
     "end_time": "2022-05-09T19:08:16.951786Z",
     "start_time": "2022-05-09T19:08:16.945192Z"
    }
   },
   "outputs": [
    {
     "data": {
      "text/plain": [
       "milk     Yes\n",
       "bread     No\n",
       "dtype: object"
      ]
     },
     "execution_count": 28,
     "metadata": {},
     "output_type": "execute_result"
    }
   ],
   "source": [
    "groceries.iloc[[2,3]]"
   ]
  },
  {
   "cell_type": "code",
   "execution_count": 29,
   "id": "0d54f11e",
   "metadata": {
    "ExecuteTime": {
     "end_time": "2022-05-09T19:19:43.433469Z",
     "start_time": "2022-05-09T19:19:43.426803Z"
    }
   },
   "outputs": [
    {
     "data": {
      "text/plain": [
       "eggs        2\n",
       "apples      6\n",
       "milk      Yes\n",
       "bread      No\n",
       "dtype: object"
      ]
     },
     "execution_count": 29,
     "metadata": {},
     "output_type": "execute_result"
    }
   ],
   "source": [
    "# modifying elements in pandas series\n",
    "groceries['eggs'] =2\n",
    "groceries"
   ]
  },
  {
   "cell_type": "code",
   "execution_count": 30,
   "id": "775c808e",
   "metadata": {
    "ExecuteTime": {
     "end_time": "2022-05-09T19:20:46.438710Z",
     "start_time": "2022-05-09T19:20:46.427102Z"
    }
   },
   "outputs": [
    {
     "data": {
      "text/plain": [
       "eggs       2\n",
       "milk     Yes\n",
       "bread     No\n",
       "dtype: object"
      ]
     },
     "execution_count": 30,
     "metadata": {},
     "output_type": "execute_result"
    }
   ],
   "source": [
    "groceries.drop('apples')"
   ]
  },
  {
   "cell_type": "code",
   "execution_count": 31,
   "id": "859f8302",
   "metadata": {
    "ExecuteTime": {
     "end_time": "2022-05-09T19:20:55.782904Z",
     "start_time": "2022-05-09T19:20:55.776418Z"
    }
   },
   "outputs": [
    {
     "data": {
      "text/plain": [
       "eggs        2\n",
       "apples      6\n",
       "milk      Yes\n",
       "bread      No\n",
       "dtype: object"
      ]
     },
     "execution_count": 31,
     "metadata": {},
     "output_type": "execute_result"
    }
   ],
   "source": [
    "groceries"
   ]
  },
  {
   "cell_type": "code",
   "execution_count": 32,
   "id": "a5bb1477",
   "metadata": {
    "ExecuteTime": {
     "end_time": "2022-05-09T19:21:21.879508Z",
     "start_time": "2022-05-09T19:21:21.874958Z"
    }
   },
   "outputs": [],
   "source": [
    "groceries.drop('apples',inplace = True)"
   ]
  },
  {
   "cell_type": "code",
   "execution_count": 33,
   "id": "95b661e1",
   "metadata": {
    "ExecuteTime": {
     "end_time": "2022-05-09T19:21:25.030939Z",
     "start_time": "2022-05-09T19:21:25.024516Z"
    }
   },
   "outputs": [
    {
     "data": {
      "text/plain": [
       "eggs       2\n",
       "milk     Yes\n",
       "bread     No\n",
       "dtype: object"
      ]
     },
     "execution_count": 33,
     "metadata": {},
     "output_type": "execute_result"
    }
   ],
   "source": [
    "groceries"
   ]
  },
  {
   "cell_type": "code",
   "execution_count": null,
   "id": "ec4750e9",
   "metadata": {},
   "outputs": [],
   "source": []
  }
 ],
 "metadata": {
  "kernelspec": {
   "display_name": "Python 3",
   "language": "python",
   "name": "python3"
  },
  "language_info": {
   "codemirror_mode": {
    "name": "ipython",
    "version": 3
   },
   "file_extension": ".py",
   "mimetype": "text/x-python",
   "name": "python",
   "nbconvert_exporter": "python",
   "pygments_lexer": "ipython3",
   "version": "3.8.8"
  },
  "toc": {
   "base_numbering": 1,
   "nav_menu": {},
   "number_sections": true,
   "sideBar": true,
   "skip_h1_title": false,
   "title_cell": "Table of Contents",
   "title_sidebar": "Contents",
   "toc_cell": false,
   "toc_position": {},
   "toc_section_display": true,
   "toc_window_display": false
  },
  "varInspector": {
   "cols": {
    "lenName": 16,
    "lenType": 16,
    "lenVar": 40
   },
   "kernels_config": {
    "python": {
     "delete_cmd_postfix": "",
     "delete_cmd_prefix": "del ",
     "library": "var_list.py",
     "varRefreshCmd": "print(var_dic_list())"
    },
    "r": {
     "delete_cmd_postfix": ") ",
     "delete_cmd_prefix": "rm(",
     "library": "var_list.r",
     "varRefreshCmd": "cat(var_dic_list()) "
    }
   },
   "types_to_exclude": [
    "module",
    "function",
    "builtin_function_or_method",
    "instance",
    "_Feature"
   ],
   "window_display": false
  }
 },
 "nbformat": 4,
 "nbformat_minor": 5
}
