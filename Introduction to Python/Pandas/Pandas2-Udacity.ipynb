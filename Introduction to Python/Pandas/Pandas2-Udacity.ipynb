{
 "cells": [
  {
   "cell_type": "code",
   "execution_count": 1,
   "id": "756cb8fb",
   "metadata": {
    "ExecuteTime": {
     "end_time": "2022-05-10T21:59:20.860240Z",
     "start_time": "2022-05-10T21:59:20.433736Z"
    }
   },
   "outputs": [],
   "source": [
    "import pandas as pd "
   ]
  },
  {
   "cell_type": "code",
   "execution_count": 2,
   "id": "9f38bea0",
   "metadata": {
    "ExecuteTime": {
     "end_time": "2022-05-10T21:59:59.946309Z",
     "start_time": "2022-05-10T21:59:59.919870Z"
    }
   },
   "outputs": [
    {
     "data": {
      "text/plain": [
       "apples     10\n",
       "oranges     6\n",
       "bananas     3\n",
       "dtype: int64"
      ]
     },
     "execution_count": 2,
     "metadata": {},
     "output_type": "execute_result"
    }
   ],
   "source": [
    "fruits = pd.Series(data = [10,6,3], index = ['apples','oranges','bananas'])\n",
    "fruits"
   ]
  },
  {
   "cell_type": "code",
   "execution_count": 3,
   "id": "fef2e8b8",
   "metadata": {
    "ExecuteTime": {
     "end_time": "2022-05-10T22:00:20.244462Z",
     "start_time": "2022-05-10T22:00:20.193836Z"
    }
   },
   "outputs": [
    {
     "data": {
      "text/plain": [
       "apples     12\n",
       "oranges     8\n",
       "bananas     5\n",
       "dtype: int64"
      ]
     },
     "execution_count": 3,
     "metadata": {},
     "output_type": "execute_result"
    }
   ],
   "source": [
    "fruits+2"
   ]
  },
  {
   "cell_type": "code",
   "execution_count": 4,
   "id": "915c6bfc",
   "metadata": {
    "ExecuteTime": {
     "end_time": "2022-05-10T22:00:26.830680Z",
     "start_time": "2022-05-10T22:00:26.822058Z"
    }
   },
   "outputs": [
    {
     "data": {
      "text/plain": [
       "apples     8\n",
       "oranges    4\n",
       "bananas    1\n",
       "dtype: int64"
      ]
     },
     "execution_count": 4,
     "metadata": {},
     "output_type": "execute_result"
    }
   ],
   "source": [
    "fruits-2\n"
   ]
  },
  {
   "cell_type": "code",
   "execution_count": 5,
   "id": "9177c783",
   "metadata": {
    "ExecuteTime": {
     "end_time": "2022-05-10T22:00:32.017452Z",
     "start_time": "2022-05-10T22:00:32.008451Z"
    }
   },
   "outputs": [
    {
     "data": {
      "text/plain": [
       "apples     20\n",
       "oranges    12\n",
       "bananas     6\n",
       "dtype: int64"
      ]
     },
     "execution_count": 5,
     "metadata": {},
     "output_type": "execute_result"
    }
   ],
   "source": [
    "fruits*2"
   ]
  },
  {
   "cell_type": "code",
   "execution_count": 6,
   "id": "6e59fb83",
   "metadata": {
    "ExecuteTime": {
     "end_time": "2022-05-10T22:00:35.716065Z",
     "start_time": "2022-05-10T22:00:35.704046Z"
    }
   },
   "outputs": [
    {
     "data": {
      "text/plain": [
       "apples     5.0\n",
       "oranges    3.0\n",
       "bananas    1.5\n",
       "dtype: float64"
      ]
     },
     "execution_count": 6,
     "metadata": {},
     "output_type": "execute_result"
    }
   ],
   "source": [
    "fruits/2"
   ]
  },
  {
   "cell_type": "code",
   "execution_count": 7,
   "id": "5977d27d",
   "metadata": {
    "ExecuteTime": {
     "end_time": "2022-05-10T22:00:53.294374Z",
     "start_time": "2022-05-10T22:00:53.288884Z"
    }
   },
   "outputs": [],
   "source": [
    "import numpy as np"
   ]
  },
  {
   "cell_type": "code",
   "execution_count": 8,
   "id": "3b43d162",
   "metadata": {
    "ExecuteTime": {
     "end_time": "2022-05-10T22:01:03.007944Z",
     "start_time": "2022-05-10T22:01:03.000431Z"
    }
   },
   "outputs": [
    {
     "data": {
      "text/plain": [
       "apples     3.162278\n",
       "oranges    2.449490\n",
       "bananas    1.732051\n",
       "dtype: float64"
      ]
     },
     "execution_count": 8,
     "metadata": {},
     "output_type": "execute_result"
    }
   ],
   "source": [
    "np.sqrt(fruits)"
   ]
  },
  {
   "cell_type": "code",
   "execution_count": 9,
   "id": "ac09211d",
   "metadata": {
    "ExecuteTime": {
     "end_time": "2022-05-10T22:01:08.066621Z",
     "start_time": "2022-05-10T22:01:08.056632Z"
    }
   },
   "outputs": [
    {
     "data": {
      "text/plain": [
       "apples     100\n",
       "oranges     36\n",
       "bananas      9\n",
       "dtype: int64"
      ]
     },
     "execution_count": 9,
     "metadata": {},
     "output_type": "execute_result"
    }
   ],
   "source": [
    "np.power(fruits,2)"
   ]
  },
  {
   "cell_type": "code",
   "execution_count": 10,
   "id": "c6584e25",
   "metadata": {
    "ExecuteTime": {
     "end_time": "2022-05-10T22:01:14.428784Z",
     "start_time": "2022-05-10T22:01:14.421072Z"
    }
   },
   "outputs": [
    {
     "data": {
      "text/plain": [
       "apples     22026.465795\n",
       "oranges      403.428793\n",
       "bananas       20.085537\n",
       "dtype: float64"
      ]
     },
     "execution_count": 10,
     "metadata": {},
     "output_type": "execute_result"
    }
   ],
   "source": [
    "np.exp(fruits)"
   ]
  },
  {
   "cell_type": "code",
   "execution_count": 11,
   "id": "3444cadf",
   "metadata": {
    "ExecuteTime": {
     "end_time": "2022-05-10T22:01:53.238884Z",
     "start_time": "2022-05-10T22:01:53.231627Z"
    }
   },
   "outputs": [
    {
     "data": {
      "text/plain": [
       "apples     10\n",
       "oranges     6\n",
       "bananas     3\n",
       "dtype: int64"
      ]
     },
     "execution_count": 11,
     "metadata": {},
     "output_type": "execute_result"
    }
   ],
   "source": [
    "fruits"
   ]
  },
  {
   "cell_type": "code",
   "execution_count": 12,
   "id": "18da0019",
   "metadata": {
    "ExecuteTime": {
     "end_time": "2022-05-10T22:02:01.699536Z",
     "start_time": "2022-05-10T22:02:01.692278Z"
    }
   },
   "outputs": [
    {
     "data": {
      "text/plain": [
       "5"
      ]
     },
     "execution_count": 12,
     "metadata": {},
     "output_type": "execute_result"
    }
   ],
   "source": [
    "fruits['bananas']+2"
   ]
  },
  {
   "cell_type": "code",
   "execution_count": 13,
   "id": "5fc02ca0",
   "metadata": {
    "ExecuteTime": {
     "end_time": "2022-05-10T22:02:10.961343Z",
     "start_time": "2022-05-10T22:02:10.956344Z"
    }
   },
   "outputs": [
    {
     "data": {
      "text/plain": [
       "8"
      ]
     },
     "execution_count": 13,
     "metadata": {},
     "output_type": "execute_result"
    }
   ],
   "source": [
    "fruits['apples']-2"
   ]
  },
  {
   "cell_type": "code",
   "execution_count": 14,
   "id": "24bb0a51",
   "metadata": {
    "ExecuteTime": {
     "end_time": "2022-05-10T22:02:33.279620Z",
     "start_time": "2022-05-10T22:02:33.263769Z"
    }
   },
   "outputs": [
    {
     "data": {
      "text/plain": [
       "apples     20\n",
       "oranges    12\n",
       "dtype: int64"
      ]
     },
     "execution_count": 14,
     "metadata": {},
     "output_type": "execute_result"
    }
   ],
   "source": [
    "fruits[['apples','oranges']]*2"
   ]
  },
  {
   "cell_type": "code",
   "execution_count": 15,
   "id": "fd6be512",
   "metadata": {
    "ExecuteTime": {
     "end_time": "2022-05-10T22:02:57.849910Z",
     "start_time": "2022-05-10T22:02:57.839517Z"
    }
   },
   "outputs": [
    {
     "data": {
      "text/plain": [
       "apples     5.0\n",
       "oranges    3.0\n",
       "dtype: float64"
      ]
     },
     "execution_count": 15,
     "metadata": {},
     "output_type": "execute_result"
    }
   ],
   "source": [
    "fruits[['apples','oranges']]/2"
   ]
  },
  {
   "cell_type": "code",
   "execution_count": 19,
   "id": "e271ed19",
   "metadata": {
    "ExecuteTime": {
     "end_time": "2022-05-10T22:09:38.857497Z",
     "start_time": "2022-05-10T22:09:38.846549Z"
    }
   },
   "outputs": [],
   "source": [
    "import pandas as pd\n",
    "\n",
    "# DO NOT CHANGE THE VARIABLE NAMES\n",
    "\n",
    "# Given a list representing a few planets\n",
    "planets = ['Earth', 'Saturn', 'Venus', 'Mars', 'Jupiter']\n",
    "\n",
    "# Given another list representing the distance of each of these planets from the Sun\n",
    "# The distance from the Sun is in units of 10^6 km\n",
    "distance_from_sun = [149.6, 1433.5, 108.2, 227.9, 778.6]\n",
    "\n",
    "\n",
    "# TO DO: Create a Pandas Series \"dist_planets\" using the lists above, representing the distance of the planet from the Sun.\n",
    "# Use the `distance_from_sun` as your data, and `planets` as your index.\n",
    "dist_planets = pd.Series(data = distance_from_sun, index = planets)\n",
    "\n",
    "\n",
    "# TO DO: Calculate the time (minutes) it takes light from the Sun to reach each planet. \n",
    "# You can do this by dividing each planet's distance from the Sun by the speed of light.\n",
    "# Use the speed of light, c = 18, since light travels 18 x 10^6 km/minute.\n",
    "time_light = dist_planets/18\n",
    "\n",
    "\n",
    "# TO DO: Use Boolean indexing to select only those planets for which sunlight takes less\n",
    "# than 40 minutes to reach them.\n",
    "# We'll check your work by printing out these close planets.\n",
    "close_planets = time_light[(time_light<40)]"
   ]
  },
  {
   "cell_type": "code",
   "execution_count": 20,
   "id": "f4678045",
   "metadata": {
    "ExecuteTime": {
     "end_time": "2022-05-10T22:09:40.652463Z",
     "start_time": "2022-05-10T22:09:40.645886Z"
    }
   },
   "outputs": [
    {
     "data": {
      "text/plain": [
       "Earth       8.311111\n",
       "Saturn     79.638889\n",
       "Venus       6.011111\n",
       "Mars       12.661111\n",
       "Jupiter    43.255556\n",
       "dtype: float64"
      ]
     },
     "execution_count": 20,
     "metadata": {},
     "output_type": "execute_result"
    }
   ],
   "source": [
    "time_light"
   ]
  },
  {
   "cell_type": "code",
   "execution_count": 18,
   "id": "40e3a7c8",
   "metadata": {
    "ExecuteTime": {
     "end_time": "2022-05-10T22:08:00.444913Z",
     "start_time": "2022-05-10T22:08:00.436960Z"
    }
   },
   "outputs": [
    {
     "data": {
      "text/plain": [
       "Earth     8.311111\n",
       "Venus     6.011111\n",
       "Mars     12.661111\n",
       "dtype: float64"
      ]
     },
     "execution_count": 18,
     "metadata": {},
     "output_type": "execute_result"
    }
   ],
   "source": [
    "close_planets\n"
   ]
  },
  {
   "cell_type": "code",
   "execution_count": null,
   "id": "96cbf3f0",
   "metadata": {},
   "outputs": [],
   "source": []
  }
 ],
 "metadata": {
  "kernelspec": {
   "display_name": "Python 3",
   "language": "python",
   "name": "python3"
  },
  "language_info": {
   "codemirror_mode": {
    "name": "ipython",
    "version": 3
   },
   "file_extension": ".py",
   "mimetype": "text/x-python",
   "name": "python",
   "nbconvert_exporter": "python",
   "pygments_lexer": "ipython3",
   "version": "3.8.8"
  },
  "toc": {
   "base_numbering": 1,
   "nav_menu": {},
   "number_sections": true,
   "sideBar": true,
   "skip_h1_title": false,
   "title_cell": "Table of Contents",
   "title_sidebar": "Contents",
   "toc_cell": false,
   "toc_position": {},
   "toc_section_display": true,
   "toc_window_display": false
  },
  "varInspector": {
   "cols": {
    "lenName": 16,
    "lenType": 16,
    "lenVar": 40
   },
   "kernels_config": {
    "python": {
     "delete_cmd_postfix": "",
     "delete_cmd_prefix": "del ",
     "library": "var_list.py",
     "varRefreshCmd": "print(var_dic_list())"
    },
    "r": {
     "delete_cmd_postfix": ") ",
     "delete_cmd_prefix": "rm(",
     "library": "var_list.r",
     "varRefreshCmd": "cat(var_dic_list()) "
    }
   },
   "types_to_exclude": [
    "module",
    "function",
    "builtin_function_or_method",
    "instance",
    "_Feature"
   ],
   "window_display": false
  }
 },
 "nbformat": 4,
 "nbformat_minor": 5
}
